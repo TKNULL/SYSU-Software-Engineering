{
 "cells": [
  {
   "cell_type": "markdown",
   "metadata": {},
   "source": [
    "+ 有监督式学习：给定一些“正确”的样本。\n",
    "+ 预测未知的结果：预测一些未知情况的结果。\n",
    "+ Train Set -> Learning Algorithm -> Hypothesis(假设)\n",
    "  + x -> h -> h(x)\n",
    "  + linear: h(x) = ax + b\n",
    "  + different a, b => different result => different cost \n",
    "  + cost funcion (many type) => minimize cost function\n",
    "    + example: $H_{cost}(a, b) =  \\frac{1} {2m}  \\sum_{i = 1}^{m}(h_{a, b}(x^{i}) - y^{(i)})​$\n",
    "  + how to solve it\n",
    "    + 暴力求解，代价太大\n",
    "    + 采用梯度下降（可以求很多东西的最优解）的方法\n",
    "    + 给定初始值，同过迭代减少cost，可能会收敛到局部最小值。\n",
    "    + 更新方法：$\\theta_i^{t+1} = \\theta_i^{t} - \\alpha \\frac{\\partial}{\\partial \\theta_i} J(\\theta_1, \\theta_2) | i = 1, 2 $\n",
    "    + 为什么可行？（变化方向）\n",
    "    + $\\alpha$的取值\n",
    "      + 小：慢\n",
    "      + 大：不收敛，发散\n",
    "      + 固定（较小）：变化率会收敛到0"
   ]
  },
  {
   "cell_type": "markdown",
   "metadata": {},
   "source": [
    "## Reference\n",
    "1. [alternating direction method of multipliers (ADMM) ](http://stanford.edu/~boyd/admm.html)"
   ]
  }
 ],
 "metadata": {
  "kernelspec": {
   "display_name": "Python 3",
   "language": "python",
   "name": "python3"
  },
  "language_info": {
   "codemirror_mode": {
    "name": "ipython",
    "version": 3
   },
   "file_extension": ".py",
   "mimetype": "text/x-python",
   "name": "python",
   "nbconvert_exporter": "python",
   "pygments_lexer": "ipython3",
   "version": "3.6.4"
  }
 },
 "nbformat": 4,
 "nbformat_minor": 2
}
