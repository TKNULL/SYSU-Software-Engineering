{
 "cells": [
  {
   "cell_type": "markdown",
   "metadata": {},
   "source": [
    "# Linear Regression\n",
    "`jskyzero` `2017/03/07`"
   ]
  },
  {
   "cell_type": "markdown",
   "metadata": {},
   "source": [
    "+ 有监督式学习：给定一些“正确”的样本。\n",
    "+ 预测未知的结果：预测一些未知情况的结果。\n",
    "+ Train Set -> Learning Algorithm -> Hypothesis(假设)\n",
    "  + x -> h -> h(x)\n",
    "  + linear: h(x) = ax + b\n",
    "  + different a, b => different result => different cost \n",
    "  + cost funcion (many type) => minimize cost function\n",
    "    + example: $H_{cost}(a, b) =  \\frac{1} {2m}  \\sum_{i = 1}^{m}(h_{a, b}(x^{i}) - y^{(i)})​$\n",
    "  + how to solve it\n",
    "    + 暴力求解，代价太大\n",
    "    + 采用梯度下降（可以求很多东西的最优解）的方法\n",
    "    + 给定初始值，同过迭代减少cost，可能会收敛到局部最小值。\n",
    "    + 更新方法：$\\theta_i^{t+1} = \\theta_i^{t} - \\alpha \\frac{\\partial}{\\partial \\theta_i} J(\\theta_1, \\theta_2) | i = 1, 2 $\n",
    "    + 为什么可行？（变化方向）\n",
    "    + $\\alpha$ 的取值\n",
    "      + 小：慢\n",
    "      + 大：不收敛，发散\n",
    "      + 固定（较小）：变化率会收敛到0"
   ]
  },
  {
   "cell_type": "markdown",
   "metadata": {},
   "source": [
    "## Multiple features (variables).\n",
    "\n",
    "+ Input: $x = [x_0, x_1, x_2...x_n]$\n",
    "+ Hypothesis: $h_\\theta(x) = \\theta^{T}x = \\theta_0 x_0 + \\theta_1 x_1 + ... + \\theta_n x_n$\n",
    "+ Cost:\n",
    "+ Gradient Descent:\n",
    "+ Feature Scaling: make sure features are on a similar scale (or it will be the main part of change).\n",
    "    + make to [-1, 1], 归一化"
   ]
  },
  {
   "cell_type": "markdown",
   "metadata": {},
   "source": [
    "## Gradient descent\n",
    "+ make sure gradient descent is working correctly\n",
    "+ when to stop?\n",
    "    + set error, when decrease smaller than error, stop.\n",
    "    + set change rate, then change smaller than rate, stop.\n",
    "+ how to set?\n",
    "    + not working -> use smaller $\\alpha$\n",
    "    + for suffiently small $\\alpha$, $J(\\theta)$ will always decrease on every iteration.also, the speed will be slow.\n",
    "    + to choose $\\alpha$, try\n",
    "    ..., 0.001, 0.003, 0.01, 0.03, 0.1, 0.3, 1, 3... "
   ]
  },
  {
   "cell_type": "markdown",
   "metadata": {},
   "source": [
    "## Reference\n",
    "1. [alternating direction method of multipliers (ADMM) ](http://stanford.edu/~boyd/admm.html)"
   ]
  }
 ],
 "metadata": {
  "kernelspec": {
   "display_name": "Python 3",
   "language": "python",
   "name": "python3"
  },
  "language_info": {
   "codemirror_mode": {
    "name": "ipython",
    "version": 3
   },
   "file_extension": ".py",
   "mimetype": "text/x-python",
   "name": "python",
   "nbconvert_exporter": "python",
   "pygments_lexer": "ipython3",
   "version": "3.6.4"
  }
 },
 "nbformat": 4,
 "nbformat_minor": 2
}
