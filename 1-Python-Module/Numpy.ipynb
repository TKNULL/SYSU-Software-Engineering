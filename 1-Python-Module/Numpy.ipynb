{
 "cells": [
  {
   "cell_type": "markdown",
   "metadata": {},
   "source": [
    "# Numpy-Study\n",
    "`17/07/09` `jskyzero`\n"
   ]
  },
  {
   "cell_type": "markdown",
   "metadata": {},
   "source": [
    "## 为什么使用Numpy\n",
    "\n",
    "一般来说，在Python中我们使用list来保存一组数据，但是对于数值计算来说list保存指针的储存方式这样浪费了内存和CPU。提供的araay模块虽然是直接保存数值的，但是没有对多维和运算函数的支持，Numpy则弥补了这些不足"
   ]
  },
  {
   "cell_type": "markdown",
   "metadata": {},
   "source": [
    "## 使用Numpy\n",
    "\n",
    "键入`pip install numpy`来安装，以下示例假定使用如下方式导入NumPy函数库"
   ]
  },
  {
   "cell_type": "code",
   "execution_count": 1,
   "metadata": {
    "scrolled": true
   },
   "outputs": [
    {
     "name": "stdout",
     "output_type": "stream",
     "text": [
      "<class 'module'>\n"
     ]
    }
   ],
   "source": [
    "import random\n",
    "import numpy as np\n",
    "\n",
    "print(type(np))"
   ]
  },
  {
   "cell_type": "markdown",
   "metadata": {},
   "source": [
    "### 创建N-dimensional array object\n",
    "\n",
    "除了下述一些基本创建，还可以使用`np.zeros()`,`np.ones `,`np.empty()`接收shape创建"
   ]
  },
  {
   "cell_type": "code",
   "execution_count": 2,
   "metadata": {},
   "outputs": [
    {
     "name": "stdout",
     "output_type": "stream",
     "text": [
      "a = [1 3 5 7 9]\n",
      "b = [1 3 5 7 9]\n",
      "c = [ 1.   1.5  2. ]\n",
      "d = [ 2.  4.  8.]\n",
      "f = [ 97  98  99 100 101 102]\n",
      "g = [ 0.  1.  2.  3.  4.  5.  6.  7.  8.  9.]\n"
     ]
    }
   ],
   "source": [
    "# 使用list初始化\n",
    "a = np.array(list(range(1, 10, 2)))\n",
    "# 使用 arange(begin, end, space), [begin, end) \n",
    "b = np.arange(1, 10, 2)\n",
    "# 使用 linespace(begin, end, nums), [begin, end], 指定元素个数\n",
    "c = np.linspace(1, 2, 3, endpoint=True)\n",
    "# 使用 logspace创建等比数列\n",
    "d = np.logspace(1, 3, 3, base=2, endpoint=True)\n",
    "# 使用 string\n",
    "f = np.fromstring(\"abcdef\", dtype=np.int8)\n",
    "# 使用 func, 第二个参数是shape\n",
    "g = np.fromfunction(abs, (10, ))\n",
    "\n",
    "print(\"a = {}\".format(a))\n",
    "print(\"b = {}\".format(b))\n",
    "print(\"c = {}\".format(c))\n",
    "print(\"d = {}\".format(d))\n",
    "print(\"f = {}\".format(f))\n",
    "print(\"g = {}\".format(g))"
   ]
  },
  {
   "cell_type": "markdown",
   "metadata": {},
   "source": [
    "### np.array基本属性\n",
    "\n",
    "字面上的属性就不解释了，学过线性代数的应该都看得懂，要注意可以修改shape来直接改变形状"
   ]
  },
  {
   "cell_type": "code",
   "execution_count": 3,
   "metadata": {},
   "outputs": [
    {
     "name": "stdout",
     "output_type": "stream",
     "text": [
      "arr\t\t [1 2 3 4 5 6 7 8 9]\n",
      "arr.ndim\t 1\n",
      "arr.shape\t (9,)\n",
      "arr.size\t 9\n",
      "arr.dtype\t int32\n"
     ]
    }
   ],
   "source": [
    "arr = np.array(range(1, 10))\n",
    "print('arr\\t\\t', arr)\n",
    "print('arr.ndim\\t', arr.ndim)\n",
    "print('arr.shape\\t', arr.shape)\n",
    "print('arr.size\\t', arr.size)\n",
    "print('arr.dtype\\t', arr.dtype)"
   ]
  },
  {
   "cell_type": "markdown",
   "metadata": {
    "collapsed": true
   },
   "source": [
    "### 基本运算"
   ]
  },
  {
   "cell_type": "code",
   "execution_count": 4,
   "metadata": {},
   "outputs": [
    {
     "name": "stdout",
     "output_type": "stream",
     "text": [
      "a + a = [2 4]\n",
      "a - a = [0 0]\n",
      "a * 2 = [1 4]\n",
      "a / 2 = [ 0.5  1. ]\n",
      "a * b = [[1 2]\n",
      " [2 4]]\n",
      "a.dot(b) = [5]\n",
      "np.dot(a, b) = [5]\n"
     ]
    }
   ],
   "source": [
    "a = np.array([1, 2])\n",
    "b = np.array([[1], [2]])\n",
    "print(\"a + a = {}\".format(a + a))\n",
    "print(\"a - a = {}\".format(a - a))\n",
    "print(\"a * 2 = {}\".format(a * a))\n",
    "print(\"a / 2 = {}\".format(a / 2))\n",
    "print(\"a * b = {}\".format(a * b))\n",
    "print(\"a.dot(b) = {}\".format(a.dot(b)))\n",
    "print(\"np.dot(a, b) = {}\".format(np.dot(a, b)))"
   ]
  },
  {
   "cell_type": "markdown",
   "metadata": {},
   "source": [
    "### 基本函数"
   ]
  },
  {
   "cell_type": "code",
   "execution_count": 5,
   "metadata": {},
   "outputs": [
    {
     "name": "stdout",
     "output_type": "stream",
     "text": [
      "a.min() = 3.0\n",
      "a.max() = 27.0\n",
      "a.sum() = 39.0\n",
      "还有很多基本函数，请参阅NumPy官方参考\n"
     ]
    }
   ],
   "source": [
    "a = np.logspace(1, 3, 3,  base=3, endpoint=True)\n",
    "print(\"a.min() = {}\".format(a.min()))\n",
    "print(\"a.max() = {}\".format(a.max()))\n",
    "print(\"a.sum() = {}\".format(a.sum()))\n",
    "print(\"还有很多基本函数，请参阅NumPy官方参考\")"
   ]
  },
  {
   "cell_type": "markdown",
   "metadata": {},
   "source": [
    "### 切片"
   ]
  },
  {
   "cell_type": "code",
   "execution_count": 6,
   "metadata": {},
   "outputs": [
    {
     "name": "stdout",
     "output_type": "stream",
     "text": [
      "a[:] = [  0   1   8  27  64 125 216 343 512 729]\n",
      "a[1:2] = [1]\n",
      "a[-2:-1] = [512]\n",
      "a[::2] = [  0   8  64 216 512]\n",
      "np.hsplit(a, [3,4]) = [array([0, 1, 8], dtype=int32), array([27], dtype=int32), array([ 64, 125, 216, 343, 512, 729], dtype=int32)]\n",
      "np.vsplit(a, [1]) = [array([0], dtype=int32), array([  1,   8,  27,  64, 125, 216, 343, 512, 729], dtype=int32)]\n"
     ]
    }
   ],
   "source": [
    "a = np.arange(10) ** 3\n",
    "print(\"a[:] = {}\".format(a))\n",
    "print(\"a[1:2] = {}\".format(a[1:2]))\n",
    "print(\"a[-2:-1] = {}\".format(a[-2:-1]))\n",
    "print(\"a[::2] = {}\".format(a[::2]))\n",
    "print(\"np.hsplit(a, [3,4]) = {}\".format(np.hsplit(a, [3,4])))\n",
    "print(\"np.vsplit(a, [1]) = {}\".format(np.hsplit(a, [1])))"
   ]
  },
  {
   "cell_type": "markdown",
   "metadata": {},
   "source": [
    "### statck"
   ]
  },
  {
   "cell_type": "code",
   "execution_count": 7,
   "metadata": {},
   "outputs": [
    {
     "data": {
      "text/plain": [
       "array([[1, 2, 3, 4, 5, 6, 7, 8, 9],\n",
       "       [1, 2, 3, 4, 5, 6, 7, 8, 9]])"
      ]
     },
     "execution_count": 7,
     "metadata": {},
     "output_type": "execute_result"
    }
   ],
   "source": [
    "a = np.arange(1, 10, 1)\n",
    "np.vstack((a, a))"
   ]
  },
  {
   "cell_type": "code",
   "execution_count": 8,
   "metadata": {},
   "outputs": [
    {
     "data": {
      "text/plain": [
       "array([1, 2, 3, 4, 5, 6, 7, 8, 9, 1, 2, 3, 4, 5, 6, 7, 8, 9])"
      ]
     },
     "execution_count": 8,
     "metadata": {},
     "output_type": "execute_result"
    }
   ],
   "source": [
    "np.hstack((a, a))"
   ]
  },
  {
   "cell_type": "code",
   "execution_count": 15,
   "metadata": {},
   "outputs": [
    {
     "data": {
      "text/plain": [
       "array([[  0.,   1.,   2.,   3.,   4.,   5.,   6.,   7.,   8.,   9.],\n",
       "       [  1.,   3.,   3.,   4.,   5.,   6.,   7.,   8.,   9.,  10.],\n",
       "       [  2.,   3.,   4.,   5.,   6.,   7.,   8.,   9.,  10.,  11.],\n",
       "       [  3.,   4.,   5.,   6.,   7.,   8.,   9.,  10.,  11.,  12.],\n",
       "       [  4.,   5.,   6.,   7.,   8.,   9.,  10.,  11.,  12.,  13.],\n",
       "       [  5.,   6.,   7.,   8.,   9.,  10.,  11.,  12.,  13.,  14.],\n",
       "       [  6.,   7.,   8.,   9.,  10.,  11.,  12.,  13.,  14.,  15.],\n",
       "       [  7.,   8.,   9.,  10.,  11.,  12.,  13.,  14.,  15.,  16.],\n",
       "       [  8.,   9.,  10.,  11.,  12.,  13.,  14.,  15.,  16.,  17.],\n",
       "       [  9.,  10.,  11.,  12.,  13.,  14.,  15.,  16.,  17.,  18.]])"
      ]
     },
     "execution_count": 15,
     "metadata": {},
     "output_type": "execute_result"
    }
   ],
   "source": [
    "a = np.fromfunction(lambda x, y: x + y, (10, 10))\n",
    "a[1][1] = 3\n",
    "a"
   ]
  }
 ],
 "metadata": {
  "kernelspec": {
   "display_name": "Python 3",
   "language": "python",
   "name": "python3"
  },
  "language_info": {
   "codemirror_mode": {
    "name": "ipython",
    "version": 3
   },
   "file_extension": ".py",
   "mimetype": "text/x-python",
   "name": "python",
   "nbconvert_exporter": "python",
   "pygments_lexer": "ipython3",
   "version": "3.6.1"
  }
 },
 "nbformat": 4,
 "nbformat_minor": 2
}
