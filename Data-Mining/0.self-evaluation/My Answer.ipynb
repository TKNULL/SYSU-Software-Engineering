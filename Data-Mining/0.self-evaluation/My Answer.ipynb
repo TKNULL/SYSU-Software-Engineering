{
 "cells": [
  {
   "cell_type": "markdown",
   "metadata": {},
   "source": [
    "# Setting up your `python` environment"
   ]
  },
  {
   "cell_type": "markdown",
   "metadata": {},
   "source": [
    "We will be using `python 3` and `ipython notebook`/`jupyter` extensively in this course. You need to set up the correct `python` environment first. Below are some instructions in a Mac OS X 10.11 environment. You should be able to adapt it to other environments -- try Google if any problem.  "
   ]
  },
  {
   "cell_type": "markdown",
   "metadata": {},
   "source": [
    "## Installing `anaconda` and `jupyter`"
   ]
  },
  {
   "cell_type": "markdown",
   "metadata": {},
   "source": [
    "1. Download and install the `anaconda` installation package (for `python 3.6`) at https://www.continuum.io/downloads\n",
    "2. Create a `py36` virtual environment by `conda create -n py36 python=3.6 anaconda`. See more at http://conda.pydata.org/docs/using/envs.html\n",
    "3. Activiate `py36` (or put it on your `~/.bashrc`): `source activate py36`\n",
    "4. To install a new package in an environment, switch to it and use `conda install -n PACKAGENAME` or `pip install PACKAGENAME`\n",
    "5. Install `jupyter` by `conda install jupyter`\n"
   ]
  },
  {
   "cell_type": "markdown",
   "metadata": {},
   "source": [
    "### Test your installation"
   ]
  },
  {
   "cell_type": "markdown",
   "metadata": {},
   "source": [
    "```\n",
    "% python -V\n",
    "Python 3.6.1 :: Anaconda 4.4.0 (x86_64)\n",
    "% ipython -V\n",
    "5.3.0\n",
    "% jupyter notebook\n",
    "```\n",
    "\n",
    "\n",
    "The last command shall open up a new page in your browser. Also check if you click the \"new\" button, there is a \"python 3\" choice under the 'notebooks'. "
   ]
  },
  {
   "cell_type": "markdown",
   "metadata": {},
   "source": [
    "## Using `jupyter`"
   ]
  },
  {
   "cell_type": "markdown",
   "metadata": {},
   "source": [
    "Start with simple tutorial: https://jupyter-notebook-beginner-guide.readthedocs.io/en/latest/index.html\n",
    "\n",
    "Press `h` (you may need to press `ESC` first) to learn a few important keyboard shortcuts, e.g., \n",
    "\n",
    "* `SHIFT+RETURN`\n",
    "* `A`, `B`, `X`\n",
    "* `ESC`\n",
    "* `ESC m`: to change the current cell to a `markdown` cell, \n",
    "* selecting multiple lines + `TAB` (indent them) / `Cmd + /` (block comment). \n",
    "* Note that mouse selection = copying to clipboard (sometimes annoying). \n",
    "\n",
    "Read the syntax of `markdown` at http://jupyter-notebook.readthedocs.io/en/latest/examples/Notebook/Working%20With%20Markdown%20Cells.html and try it out by yourself. \n",
    "\n",
    "It also can display maths symbols/equations, e.g., $e^{ix} = cos(x) + i \\cdot sin(x)$.\n",
    "\n",
    "$$ P \\implies Q  \\qquad \\equiv \\qquad P \\lor \\neg Q $$\n",
    "\n",
    "Try out cells with simple python code (or try the following cell in this notebook). \n",
    "\n",
    "**Tips**: \n",
    "\n",
    "* Recommended browser: firefox (Chrome has issues rendering maths fonts/equations)\n",
    "* Your code may run into an infinite loop and you may HAVE TO kill the browser. So use a decent session manager for your browser. "
   ]
  },
  {
   "cell_type": "code",
   "execution_count": 1,
   "metadata": {},
   "outputs": [
    {
     "data": {
      "text/plain": [
       "[2, 3, 7, 1, 10, 8, 5, 3, 3, 3]"
      ]
     },
     "execution_count": 1,
     "metadata": {},
     "output_type": "execute_result"
    }
   ],
   "source": [
    "import random\n",
    "\n",
    "n = 10\n",
    "data = [random.randint(1, 10) for _ in range(n)]\n",
    "data # this print out the variable's content"
   ]
  },
  {
   "cell_type": "markdown",
   "metadata": {},
   "source": [
    "## Exercise 1: Integer square root of an integer \n",
    "\n",
    "You need to write a function, `nsqrt()`, that takes as input an integer `x`, and return the largest integer that does not exceed $\\sqrt{x}$. You need to abide by the following constraints:\n",
    "1. The time complexity of your algorithm should be $O(\\log x)$. \n",
    "2. You cannot use `sqrt()` function. \n",
    "\n",
    "For example, `nsqrt(11) = 3`, and `nsqrt(1369) = 37`. \n"
   ]
  },
  {
   "cell_type": "code",
   "execution_count": 2,
   "metadata": {
    "collapsed": true
   },
   "outputs": [],
   "source": [
    "import math as math\n",
    "\n",
    "def nsqrt(x):\n",
    "    # return math.trunc(math.sqrt(x))\n",
    "    left, right = (0, x)\n",
    "    ans = (left + right) // 2\n",
    "    while not (ans * ans <= x and (ans + 1) * (ans + 1) > x):\n",
    "        # print(ans, ans* \"!\")\n",
    "        if ans * ans > x :\n",
    "            right = ans \n",
    "        else:\n",
    "            left = ans\n",
    "        ans = (left + right) // 2\n",
    "    return ans "
   ]
  },
  {
   "cell_type": "markdown",
   "metadata": {
    "collapsed": true
   },
   "source": [
    "You can test your implementation using the following code."
   ]
  },
  {
   "cell_type": "code",
   "execution_count": 3,
   "metadata": {},
   "outputs": [
    {
     "name": "stdout",
     "output_type": "stream",
     "text": [
      "3 37\n"
     ]
    }
   ],
   "source": [
    "print(nsqrt(11), nsqrt(1369))"
   ]
  },
  {
   "cell_type": "markdown",
   "metadata": {
    "collapsed": true
   },
   "source": [
    "## Exercise 2: Root finding \n",
    "\n",
    "Use [Newton's method](https://en.wikipedia.org/wiki/Newton's_method) to find a root of an equation numerically. Newton's method starts from $x_0$ and iteratively computes $$x_{i+1} = x_i - \\frac{f(x_i)}{f'(x_i)}.$$\n",
    "\n",
    "Let us consider find a $x$ such that $f(x) = x \\ln(x) - 16 = 0$. First, we plot the function and it seems $x$ is close to 8.0."
   ]
  },
  {
   "cell_type": "code",
   "execution_count": 4,
   "metadata": {},
   "outputs": [
    {
     "data": {
      "image/png": "[encoded data removed]",
      "text/plain": [
       "<matplotlib.figure.Figure at 0x6007cb0>"
      ]
     },
     "metadata": {},
     "output_type": "display_data"
    }
   ],
   "source": [
    "import matplotlib\n",
    "import numpy as np\n",
    "import matplotlib.pyplot as plt\n",
    "%matplotlib inline  \n",
    "\n",
    "import math\n",
    "\n",
    "def f(x):\n",
    "    return x * math.log(x) - 16.0\n",
    "\n",
    "xvals = np.arange(0.01, 10, 0.01)        \n",
    "yvals = np.array([f(x) for x in xvals])\n",
    "plt.plot(xvals, yvals) \n",
    "plt.plot(xvals, 0*xvals)\n",
    "plt.show()"
   ]
  },
  {
   "cell_type": "markdown",
   "metadata": {
    "collapsed": true
   },
   "source": [
    "To find $x$ for the equation, we need to compute the derivative of $f(x)$, i.e., $f'(x)$ first. \n",
    "\n",
    "$$f'(x) = (x \\cdot \\frac{1}{x} + 1 \\cdot \\ln(x)) + 0 = 1 + \\ln(x)$$ \n",
    "\n",
    "We implement it as `fprime(x)`:"
   ]
  },
  {
   "cell_type": "code",
   "execution_count": 5,
   "metadata": {
    "collapsed": true
   },
   "outputs": [],
   "source": [
    "def fprime(x):\n",
    "    return 1.0 + math.log(x)"
   ]
  },
  {
   "cell_type": "markdown",
   "metadata": {
    "collapsed": true
   },
   "source": [
    "Now you need to implement Newton's method below."
   ]
  },
  {
   "cell_type": "code",
   "execution_count": 6,
   "metadata": {
    "collapsed": true
   },
   "outputs": [],
   "source": [
    "'''\n",
    "x_0: initial guess\n",
    "EPSILON: stop when abs(x - x_new) < EPSILON\n",
    "MAX_ITER: maximum number of iterations\n",
    "\n",
    "NOTE: you must use the default values of the above parameters, do not change them\n",
    "'''\n",
    "def find_root(f, fprime, x_0=1.0, EPSILON = 1E-7, MAX_ITER = 1000): # do not change the heading of the function\n",
    "    times = 0\n",
    "    while times  < 1000:\n",
    "        x_new = x_0 - f(x_0) / fprime(x_0)\n",
    "        if abs(x_0 - x_new) < EPSILON:\n",
    "            return x_new\n",
    "        else:\n",
    "            x_0 = x_new\n",
    "    return x_0"
   ]
  },
  {
   "cell_type": "markdown",
   "metadata": {
    "collapsed": true
   },
   "source": [
    "You can test your implementation using the following code.\n",
    "\n",
    "Note that we will test your code using a different $f(x)$ (and its corresponding $f'(x)$). You need to perform similar tests by yourself. \n",
    "\n"
   ]
  },
  {
   "cell_type": "code",
   "execution_count": 7,
   "metadata": {
    "scrolled": true
   },
   "outputs": [
    {
     "name": "stdout",
     "output_type": "stream",
     "text": [
      "7.792741452820329\n",
      "0.0\n"
     ]
    }
   ],
   "source": [
    "x = find_root(f, fprime)\n",
    "print(x)\n",
    "print(f(x))"
   ]
  },
  {
   "cell_type": "markdown",
   "metadata": {
    "collapsed": true
   },
   "source": [
    "## Exercise 3: Enumerating Combinations\n",
    "\n",
    "You need to write a function, `comb(n, k)`, that returns a list consisting of all the combinations of $k$ elements out of a set $\\{1, 2, \\ldots, n\\}$. Your implementation should be using recursions instead of `for` loop (you may use *list comprehension* though).  "
   ]
  },
  {
   "cell_type": "code",
   "execution_count": 8,
   "metadata": {
    "collapsed": true
   },
   "outputs": [],
   "source": [
    "import itertools\n",
    "import numpy as np\n",
    "\n",
    "def comb(n, k, m = 1):\n",
    "    # return list(itertools.combinations(list(range(1, 7)), 3))\n",
    "    if k <= 0:\n",
    "        return [[]]\n",
    "    if n - m + 1 == k:\n",
    "        return [list(range(m, n + 1))]\n",
    "    else:\n",
    "        ans = []\n",
    "        for x in range(m, n - (k - 1) + 1):\n",
    "            old = comb(n, k - 1, x + 1)\n",
    "            for line in old: \n",
    "                line.insert(0, x)\n",
    "            ans += old\n",
    "        return ans"
   ]
  },
  {
   "cell_type": "code",
   "execution_count": 9,
   "metadata": {},
   "outputs": [
    {
     "data": {
      "text/plain": [
       "[[1, 2, 3],\n",
       " [1, 2, 4],\n",
       " [1, 2, 5],\n",
       " [1, 2, 6],\n",
       " [1, 3, 4],\n",
       " [1, 3, 5],\n",
       " [1, 3, 6],\n",
       " [1, 4, 5],\n",
       " [1, 4, 6],\n",
       " [1, 5, 6],\n",
       " [2, 3, 4],\n",
       " [2, 3, 5],\n",
       " [2, 3, 6],\n",
       " [2, 4, 5],\n",
       " [2, 4, 6],\n",
       " [2, 5, 6],\n",
       " [3, 4, 5],\n",
       " [3, 4, 6],\n",
       " [3, 5, 6],\n",
       " [4, 5, 6]]"
      ]
     },
     "execution_count": 9,
     "metadata": {},
     "output_type": "execute_result"
    }
   ],
   "source": [
    "comb(6, 3)"
   ]
  },
  {
   "cell_type": "code",
   "execution_count": null,
   "metadata": {
    "collapsed": true
   },
   "outputs": [],
   "source": []
  },
  {
   "cell_type": "code",
   "execution_count": null,
   "metadata": {
    "collapsed": true
   },
   "outputs": [],
   "source": []
  },
  {
   "cell_type": "code",
   "execution_count": null,
   "metadata": {
    "collapsed": true
   },
   "outputs": [],
   "source": []
  },
  {
   "cell_type": "code",
   "execution_count": null,
   "metadata": {
    "collapsed": true
   },
   "outputs": [],
   "source": []
  },
  {
   "cell_type": "code",
   "execution_count": null,
   "metadata": {
    "collapsed": true
   },
   "outputs": [],
   "source": []
  }
 ],
 "metadata": {
  "kernelspec": {
   "display_name": "Python 3",
   "language": "python",
   "name": "python3"
  },
  "language_info": {
   "codemirror_mode": {
    "name": "ipython",
    "version": 3
   },
   "file_extension": ".py",
   "mimetype": "text/x-python",
   "name": "python",
   "nbconvert_exporter": "python",
   "pygments_lexer": "ipython3",
   "version": "3.6.4"
  }
 },
 "nbformat": 4,
 "nbformat_minor": 1
}
