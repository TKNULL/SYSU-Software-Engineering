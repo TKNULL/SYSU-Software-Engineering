{
 "cells": [
  {
   "cell_type": "markdown",
   "metadata": {},
   "source": [
    "## HelloWorld"
   ]
  },
  {
   "cell_type": "code",
   "execution_count": 1,
   "metadata": {},
   "outputs": [
    {
     "name": "stdout",
     "output_type": "stream",
     "text": [
      "HelloWorld!\n"
     ]
    }
   ],
   "source": [
    "print(\"HelloWorld!\")"
   ]
  },
  {
   "cell_type": "markdown",
   "metadata": {},
   "source": [
    "## Use Time"
   ]
  },
  {
   "cell_type": "code",
   "execution_count": 2,
   "metadata": {},
   "outputs": [
    {
     "name": "stdout",
     "output_type": "stream",
     "text": [
      "About time\n",
      "time.time()                   1520563345.4121716\n",
      "time.mktime(time.localtime()) 1520563345.0\n",
      "time.gmtime()                 time.struct_time(tm_year=2018, tm_mon=3, tm_mday=9, tm_hour=2, tm_min=42, tm_sec=25, tm_wday=4, tm_yday=68, tm_isdst=0)\n",
      "time.localtime()              time.struct_time(tm_year=2018, tm_mon=3, tm_mday=9, tm_hour=10, tm_min=42, tm_sec=25, tm_wday=4, tm_yday=68, tm_isdst=0)\n",
      "now time is Fri Mar  9 10:42:25 2018.\n",
      "now time is 18/03/09 10:42:25.\n",
      "use strptime to back to struct time\n"
     ]
    }
   ],
   "source": [
    "import time\n",
    "\n",
    "print(\"About time\")\n",
    "print(\"time.time()                   {}\".format(\n",
    "    time.time()))\n",
    "print(\"time.mktime(time.localtime()) {}\".format(\n",
    "    time.mktime(time.localtime())))\n",
    "print(\"time.gmtime()                 {}\".format(\n",
    "    time.gmtime()))\n",
    "print(\"time.localtime()              {}\".format(\n",
    "    time.localtime()))\n",
    "print(\"now time is {time}.\".format(\n",
    "    time=time.asctime(time.localtime())))\n",
    "print(\"now time is {time}.\".format(\n",
    "    time=time.strftime(\"%y/%m/%d %H:%M:%S\", time.localtime())))\n",
    "print(\"use strptime to back to struct time\")"
   ]
  }
 ],
 "metadata": {
  "kernelspec": {
   "display_name": "Python 3",
   "language": "python",
   "name": "python3"
  },
  "language_info": {
   "codemirror_mode": {
    "name": "ipython",
    "version": 3
   },
   "file_extension": ".py",
   "mimetype": "text/x-python",
   "name": "python",
   "nbconvert_exporter": "python",
   "pygments_lexer": "ipython3",
   "version": "3.6.4"
  }
 },
 "nbformat": 4,
 "nbformat_minor": 2
}
