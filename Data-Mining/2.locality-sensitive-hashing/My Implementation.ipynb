{
 "cells": [
  {
   "cell_type": "markdown",
   "metadata": {},
   "source": [
    "# 样例实现\n",
    "\n",
    "上面我们已经有说过位置敏感的哈希可以给数据降维，其中我们较为关心的就是实际情况下的碰撞概率，具体来说给定两个对象，经过哈希以后保留的特征中，大概的相似程度是多少？\n",
    "\n",
    "嗯这个应该只相当于位置敏感的哈希中的计算单个的碰撞概率的方法，不过大概我们需要模拟的也不是特异性特别强的降维那方面。"
   ]
  },
  {
   "cell_type": "code",
   "execution_count": 1,
   "metadata": {},
   "outputs": [],
   "source": [
    "import random\n",
    "\n",
    "DEBUG = False\n",
    "\n",
    "# global constants value\n",
    "rand_seed = None\n",
    "P = 31\n",
    "M = 9\n",
    "# K is roughly O(1 / relative_accuracy^2), so a fairly large number is needed to get to 10% relative error.\n",
    "K = 100000\n",
    "\n",
    "data = [[0, 2, 3, 4, 7, 8], [0, 1, 3, 8]]"
   ]
  },
  {
   "cell_type": "markdown",
   "metadata": {},
   "source": [
    "## Jaccard相似"
   ]
  },
  {
   "cell_type": "code",
   "execution_count": 2,
   "metadata": {},
   "outputs": [
    {
     "data": {
      "text/plain": [
       "0.42857142857142855"
      ]
     },
     "execution_count": 2,
     "metadata": {},
     "output_type": "execute_result"
    }
   ],
   "source": [
    "def jaccard_similarity(list1, list2):\n",
    "    set1, set2 = set(list1), set(list2)\n",
    "    return len(set1 & set2) / len(set1 | set2)\n",
    "\n",
    "jaccard_similarity(data[0], data[1])"
   ]
  },
  {
   "cell_type": "markdown",
   "metadata": {},
   "source": [
    "## 哈希相关"
   ]
  },
  {
   "cell_type": "code",
   "execution_count": 3,
   "metadata": {},
   "outputs": [],
   "source": [
    "def init_coeffs():\n",
    "    random.seed(rand_seed)\n",
    "    new_coeffs = [(random.randint(0, P), random.randint(1, P)) for i in range(K)]\n",
    "    return new_coeffs\n",
    "\n",
    "\n",
    "def coeffs_hash(i, x):\n",
    "    return ((coeffs[i][0] * x + coeffs[i][1]) % P) % M\n",
    "\n",
    "def sketch(initial_list):\n",
    "    finally_list = []\n",
    "    for i in range(K):\n",
    "        hash_values = [coeffs_hash(i, x) for x in initial_list]\n",
    "        finally_list.append(min(hash_values))\n",
    "    return finally_list"
   ]
  },
  {
   "cell_type": "markdown",
   "metadata": {},
   "source": [
    "## MinHash相似"
   ]
  },
  {
   "cell_type": "code",
   "execution_count": 4,
   "metadata": {},
   "outputs": [
    {
     "data": {
      "text/plain": [
       "0.61017"
      ]
     },
     "execution_count": 4,
     "metadata": {},
     "output_type": "execute_result"
    }
   ],
   "source": [
    "def minhash_similarity(list1, list2):\n",
    "    return [list1[i] == list2[i] for i in range(len(list1))].count(True) / len(list1)\n",
    "\n",
    "coeffs = init_coeffs()\n",
    "minhash_data = [sketch(each_list) for each_list in data]\n",
    "\n",
    "minhash_similarity(minhash_data[0], minhash_data[1])"
   ]
  }
 ],
 "metadata": {
  "kernelspec": {
   "display_name": "Python 3",
   "language": "python",
   "name": "python3"
  },
  "language_info": {
   "codemirror_mode": {
    "name": "ipython",
    "version": 3
   },
   "file_extension": ".py",
   "mimetype": "text/x-python",
   "name": "python",
   "nbconvert_exporter": "python",
   "pygments_lexer": "ipython3",
   "version": "3.6.1"
  }
 },
 "nbformat": 4,
 "nbformat_minor": 2
}
