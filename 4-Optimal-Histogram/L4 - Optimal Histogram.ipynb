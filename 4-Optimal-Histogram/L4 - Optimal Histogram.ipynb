{
 "cells": [
  {
   "cell_type": "markdown",
   "metadata": {},
   "source": [
    "# Introduction\n",
    "\n",
    "In this notebook, we experiment with the optimal histogram algorithm. We will implement a simple version based on recursion and you will do the hard job of implementing a dynamic programming-based version. \n",
    "\n",
    "\n",
    "References: \n",
    "* H. V. Jagadish, Nick Koudas, S. Muthukrishnan, Viswanath Poosala, Kenneth C. Sevcik, Torsten Suel: Optimal Histograms with Quality Guarantees. VLDB 1998: 275-286. (url: http://engineering.nyu.edu/~suel/papers/vopt.pdf)\n",
    "* Dynamic Programming (wikipedia): https://en.wikipedia.org/wiki/Dynamic_programming\n"
   ]
  },
  {
   "cell_type": "markdown",
   "metadata": {},
   "source": [
    "\n",
    "\n",
    "1. V-optimal histograms are an example of a more \"exotic\" histogram. V-optimality is a Partition Rule which states that the bucket boundaries are to be placed as to minimize the cumulative weighted variance of the buckets. Implementation of this rule is a complex problem and construction of these histograms is also a complex process. （大意：最优直方图就是我们定义的一个桶内方差最小，不过大概不能改变数据的排列顺序）\n",
    "\n",
    "2. 大致的思想，使用动态规划，全局最优必然是局部最优，因而我们可以一层层拆解，取每一次拆解的最优的方式。拆解过程又是一个递归的过程。"
   ]
  },
  {
   "cell_type": "code",
   "execution_count": 1,
   "metadata": {
    "collapsed": true
   },
   "outputs": [],
   "source": [
    "LARGE_NUM = 1000000000.0\n",
    "EMPTY = -1\n",
    "\n",
    "# DEBUG = 2\n",
    "# DEBUG = 1\n",
    "DEBUG = 0\n",
    "\n",
    "import numpy as np\n",
    "\n",
    "# 计算划分好坏程度的函数\n",
    "def sse(arr):\n",
    "    if len(arr) == 0: # deal with arr == []\n",
    "        return 0.0\n",
    "\n",
    "    avg = np.average(arr)\n",
    "    val = sum( [(x-avg)*(x-avg) for x in arr] )\n",
    "    return val\n",
    "\n",
    "# 为了打印方便的函数\n",
    "def calc_depth(b):\n",
    "    return 5 - b\n",
    "\n",
    "# 核心部分\n",
    "def v_opt_rec(xx, b):\n",
    "    mincost = LARGE_NUM\n",
    "    n = len(xx)\n",
    "\n",
    "    # check boundary condition:\n",
    "    if n < b: # 没法划分\n",
    "        return LARGE_NUM + 1\n",
    "    elif b == 1: # 最简单的情况\n",
    "        return sse(xx)\n",
    "    else:  # the general case\n",
    "        if DEBUG > 1:\n",
    "            #print('.. BEGIN: input = {!s:<30}, b = {}'.format(xx, b))\n",
    "            print('..{}BEGIN: input = {!s:<30}, b = {}'.format('  '*calc_depth(b), xx, b))\n",
    "\n",
    "            \n",
    "        for t in range(n):\n",
    "            prefix = xx[0 : t+1]\n",
    "            suffix = xx[t+1 : ]\n",
    "            cost = sse(prefix) + v_opt_rec(suffix, b - 1)\n",
    "            mincost = min(mincost, cost)\n",
    "\n",
    "        if DEBUG > 0:\n",
    "            #print('.. END: input = {!s:<32}, b = {}, mincost = {}'.format(xx, b, mincost))\n",
    "            print('..{}END: input = {!s:<32}, b = {}, mincost = {}'.format('  '*calc_depth(b), xx, b, mincost))\n",
    "\n",
    "        return mincost\n",
    "\n"
   ]
  },
  {
   "cell_type": "markdown",
   "metadata": {},
   "source": [
    "Now, try to understand how the algorithm works -- feel free to modify the code to output more if you need. Specifically, \n",
    "\n",
    "1. Observe and understand how the recursion works (set `DEBUG = 2`)\n",
    "2. Observe and understand how many sub-problems are being solved again and again (set `DEBUG = 1`), especially when the input array is longer. "
   ]
  },
  {
   "cell_type": "code",
   "execution_count": 2,
   "metadata": {},
   "outputs": [
    {
     "name": "stdout",
     "output_type": "stream",
     "text": [
      "optimal cost = 2.0\n"
     ]
    }
   ],
   "source": [
    "x = [7, 9, 13, 5]\n",
    "b = 3\n",
    "\n",
    "c = v_opt_rec(x, b)\n",
    "print('optimal cost = {}'.format(c))"
   ]
  },
  {
   "cell_type": "code",
   "execution_count": 3,
   "metadata": {},
   "outputs": [
    {
     "name": "stdout",
     "output_type": "stream",
     "text": [
      "c = 2.0\n"
     ]
    }
   ],
   "source": [
    "x = [1, 3, 9, 13, 17]\n",
    "b = 4\n",
    "\n",
    "c = v_opt_rec(x, b)\n",
    "print('c = {}'.format(c))"
   ]
  },
  {
   "cell_type": "code",
   "execution_count": 4,
   "metadata": {},
   "outputs": [
    {
     "name": "stdout",
     "output_type": "stream",
     "text": [
      "c = 42.66666666666667\n"
     ]
    }
   ],
   "source": [
    "x = [3, 1, 18, 9, 13, 34, 17]\n",
    "b = 4\n",
    "\n",
    "c = v_opt_rec(x, b)\n",
    "print('c = {}'.format(c))"
   ]
  },
  {
   "cell_type": "code",
   "execution_count": 5,
   "metadata": {},
   "outputs": [
    {
     "name": "stdout",
     "output_type": "stream",
     "text": [
      "c = 1.0\n"
     ]
    }
   ],
   "source": [
    "x = [1, 2, 3, 4, 5, 6]\n",
    "b = 4\n",
    "\n",
    "c = v_opt_rec(x, b)\n",
    "print('c = {}'.format(c))"
   ]
  },
  {
   "cell_type": "code",
   "execution_count": 6,
   "metadata": {},
   "outputs": [
    {
     "name": "stdout",
     "output_type": "stream",
     "text": [
      "c = 46.666666666666664\n"
     ]
    }
   ],
   "source": [
    "x = [1, 7, 8, 15, 21, 30, 78]\n",
    "b = 4\n",
    "\n",
    "c = v_opt_rec(x, 4)\n",
    "print('c = {}'.format(c))"
   ]
  },
  {
   "cell_type": "markdown",
   "metadata": {},
   "source": [
    "## Exercise\n",
    "\n",
    "Now you need to implement the same algorithm using dynamic programming. The idea is to fill in a table, named `opt`, of $b \\times n$, where `opt[i][j]` records the optimal cost for building a histogram of $[x_j, x_{j+1}, \\ldots, x_n]$ using $i$ bins. \n",
    "\n",
    "The first step is to work out the general recursive formula, in the form of: \n",
    "$$\n",
    "opt[i][j] = \\min_{t} f(t)\n",
    "$$\n",
    "You need to work out what is the domain of $t$ and what exactly is $f()$, which should depend on $opt[u][v]$ that has **already** been computed. If you cannot work it out directly, you can observe the sub-problems being solved in the recursive algorithm and see if you can schedule the computation of table cells such that every cell required on the right hand side (i.e., $f(t)$) is always scheduled **before** the current cell $opt[i][j]$. "
   ]
  },
  {
   "cell_type": "code",
   "execution_count": 7,
   "metadata": {
    "collapsed": true
   },
   "outputs": [],
   "source": [
    "# 注：\n",
    "#    这里没有实现，但大概的思路和上面一样，先从最简单的情况计算，然后增加选择最优的一种。\n",
    "\n",
    "def fill_opt(xx, b):\n",
    "    opt = np.zeros((b, len(xx)))\n",
    "    m, n = opt.shape\n",
    "    for i in range(m):\n",
    "        for j in range(n):\n",
    "            opt[i][j] = v_opt_rec(xx[j:], i + 1)\n",
    "    return opt\n",
    "    \n",
    "    "
   ]
  },
  {
   "cell_type": "code",
   "execution_count": 8,
   "metadata": {},
   "outputs": [
    {
     "data": {
      "text/plain": [
       "array([[  4.10685714e+03,   3.54950000e+03,   3.09320000e+03,\n",
       "          2.46600000e+03,   1.87800000e+03,   1.15200000e+03,\n",
       "          0.00000000e+00],\n",
       "       [  5.59333333e+02,   3.66800000e+02,   2.61000000e+02,\n",
       "          1.14000000e+02,   4.05000000e+01,   0.00000000e+00,\n",
       "          1.00000000e+09],\n",
       "       [  1.39250000e+02,   7.85000000e+01,   6.50000000e+01,\n",
       "          1.80000000e+01,   0.00000000e+00,   1.00000000e+09,\n",
       "          1.00000000e+09],\n",
       "       [  4.66666667e+01,   1.85000000e+01,   1.80000000e+01,\n",
       "          0.00000000e+00,   1.00000000e+09,   1.00000000e+09,\n",
       "          1.00000000e+09]])"
      ]
     },
     "execution_count": 8,
     "metadata": {},
     "output_type": "execute_result"
    }
   ],
   "source": [
    "fill_opt([1, 7, 8, 15, 21, 30, 78], 4)"
   ]
  },
  {
   "cell_type": "code",
   "execution_count": null,
   "metadata": {
    "collapsed": true
   },
   "outputs": [],
   "source": []
  },
  {
   "cell_type": "code",
   "execution_count": 9,
   "metadata": {},
   "outputs": [
    {
     "data": {
      "text/plain": [
       "(10, 10)"
      ]
     },
     "execution_count": 9,
     "metadata": {},
     "output_type": "execute_result"
    }
   ],
   "source": [
    "a = np.zeros((10, 10))\n",
    "a.shape"
   ]
  }
 ],
 "metadata": {
  "kernelspec": {
   "display_name": "Python 3",
   "language": "python",
   "name": "python3"
  },
  "language_info": {
   "codemirror_mode": {
    "name": "ipython",
    "version": 3
   },
   "file_extension": ".py",
   "mimetype": "text/x-python",
   "name": "python",
   "nbconvert_exporter": "python",
   "pygments_lexer": "ipython3",
   "version": "3.6.1"
  }
 },
 "nbformat": 4,
 "nbformat_minor": 1
}
