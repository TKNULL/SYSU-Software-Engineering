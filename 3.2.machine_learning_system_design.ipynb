{
 "cells": [
  {
   "cell_type": "markdown",
   "metadata": {},
   "source": [
    "# Machine Learning System Design\n",
    "`jskyzero` `2018/04/02`"
   ]
  },
  {
   "cell_type": "markdown",
   "metadata": {},
   "source": [
    "## Spam Classifier（垃圾邮件分类器）\n",
    "\n",
    "使用supervised learning：监督式学习\n",
    "\n",
    "选取feature：常用单词是否出现\n",
    "\n",
    "先用一个比较熟悉/简单的分类算法，然后进行训练，测试，并对错误分类的数据进行分析，看其中是否有可以指导分类的特征。"
   ]
  },
  {
   "cell_type": "markdown",
   "metadata": {},
   "source": [
    "## Data（数据集）\n",
    "\n",
    "多大的数据集会比较好？\n",
    "\n",
    "信息量是否足够？"
   ]
  }
 ],
 "metadata": {
  "kernelspec": {
   "display_name": "Python 3",
   "language": "python",
   "name": "python3"
  },
  "language_info": {
   "codemirror_mode": {
    "name": "ipython",
    "version": 3
   },
   "file_extension": ".py",
   "mimetype": "text/x-python",
   "name": "python",
   "nbconvert_exporter": "python",
   "pygments_lexer": "ipython3",
   "version": "3.6.4"
  }
 },
 "nbformat": 4,
 "nbformat_minor": 2
}
