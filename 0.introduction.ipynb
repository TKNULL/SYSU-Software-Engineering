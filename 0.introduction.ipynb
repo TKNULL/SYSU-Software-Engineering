{
 "cells": [
  {
   "cell_type": "markdown",
   "metadata": {},
   "source": [
    "# Introduction\n",
    "`jskyzero` `2017/03/05`"
   ]
  },
  {
   "cell_type": "markdown",
   "metadata": {},
   "source": [
    "本节将概述机器学习的一些基本知识，以及讨论我们为什么要学习机器学习。"
   ]
  },
  {
   "cell_type": "markdown",
   "metadata": {},
   "source": [
    "## 前置学科（Prerequisite）\n",
    "\n",
    "+ 线性代数 / Linear Algebra\n",
    "+ 概率统计 / Statistics\n",
    "+ 数据结构 / Data Structure\n",
    "+ 编程 / Programing\n",
    "\n",
    "## 课程内容（Course Contents）\n",
    "\n",
    "+ Supervised Learning: \n",
    "    + Liner / Loigistic Regression\n",
    "    + SVM\n",
    "    + decition tree\n",
    "    + ensemble methods\n",
    "    + neural networks\n",
    "    + overfitting.\n",
    "+ Unsupervised learing: \n",
    "    + PCA\n",
    "    + manifold learning\n",
    "    + clustering\n",
    "+ Revommendation system: \n",
    "    + Collaborative Filtering\n",
    "    + UV-Decomposition\n",
    "+ Association analysis: \n",
    "    + Apriori Algorithm\n",
    "    + frequent itemset\n",
    "+ Recent advanced techniques: \n",
    "    + PageRank\n",
    "    + hashing\n",
    "    + Stochastic gradient descent\n",
    "    + CNN"
   ]
  },
  {
   "cell_type": "markdown",
   "metadata": {},
   "source": [
    "## Mhy Learn Data Mining ?\n",
    "\n",
    "- Large-scale data is every where.\n",
    "- Greate opportunities to solve society's major problem (via infomation)\n",
    "- Commercial viewpoint, many company.\n",
    "- Data Mining can provide a better sevices not only in IT field.\n",
    "- ~~help you find a job / persue advanced degree~~\n",
    "\n",
    "## What is data mining？\n",
    "- History\n",
    "    - Bayes' theorem: 1768\n",
    "    - Regression: 1805\n",
    "    - 1936: Terning machine\n",
    "    - 1943：Neural networks\n",
    "    - 1959: Machine learing\n",
    "    - 1965: Evolutionary Compution\n",
    "    - 1970s: Databases\n",
    "    - 1975: Genetic algorithm\n",
    "    - KDD: 1989\n",
    "    - SVM: 1992\n",
    "    - Data science teams: 2001\n",
    "    - Moneyball: 2003\n",
    "    - Today: Big data\n",
    "    - Today: Deep Learning\n",
    "    - ...\n",
    "- Definition\n",
    "    - Extract useful patterns from (usually large-scale) data\n",
    "    - Stored (System) / Managed (Dayabeses) / Analysis (this class)\n",
    "    - Data Mining = Big data = ...\n",
    "    - Not Data Mining: Search / Query\n",
    "    - is Data Mining: Class, Group ...\n",
    "- Tasks\n",
    "    - Predictive mathods: Regression / Classification / Recommender System\n",
    "    - Descriptive methods: Clustering / Association (make it human-interpretable)\n",
    "    - ...\n",
    "  - Overlap with Databases(query) / Machine learning(model) / CV Theory"
   ]
  }
 ],
 "metadata": {
  "kernelspec": {
   "display_name": "Python 3",
   "language": "python",
   "name": "python3"
  },
  "language_info": {
   "codemirror_mode": {
    "name": "ipython",
    "version": 3
   },
   "file_extension": ".py",
   "mimetype": "text/x-python",
   "name": "python",
   "nbconvert_exporter": "python",
   "pygments_lexer": "ipython3",
   "version": "3.6.4"
  }
 },
 "nbformat": 4,
 "nbformat_minor": 2
}
