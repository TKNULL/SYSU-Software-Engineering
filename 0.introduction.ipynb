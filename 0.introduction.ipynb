{
 "cells": [
  {
   "cell_type": "markdown",
   "metadata": {},
   "source": [
    "# Introduction\n",
    "`jskyzero` `2017/03/05`"
   ]
  },
  {
   "cell_type": "markdown",
   "metadata": {},
   "source": [
    "## Prerequisite\n",
    "\n",
    "+ Linear Algebra\n",
    "+ Statistics\n",
    "+ Data Structure\n",
    "+ Programing\n",
    "\n",
    "## Course Contents\n",
    "\n",
    "+ Supervised Learning: Liner / Loigistic Regression, SVM, decition tree, ensemble methods, neural networks, overfitting.\n",
    "+ Unsupervised learing: PCA, manifold learning, clustering\n",
    "+ Revommendation system: Collaborative Filtering, UV-Decomposition\n",
    "+ Association analysis: Apriori Algorithm, frequent itemset\n",
    "+ Recent advanced techniques: PageRank, hashing, Stochastic gradient descent, CNN"
   ]
  },
  {
   "cell_type": "markdown",
   "metadata": {},
   "source": [
    "## Mhy Learn Data Mining ?\n",
    "\n",
    "- Large-scale data is every where.\n",
    "- Greate opportunities to solve society's major problem (via infomation)\n",
    "- Commercial viewpoint, many company.\n",
    "- Data Mining can provide a better sevices not only in IT field.\n",
    "- ~~help you find a job / persue advanced degree~~\n",
    "\n",
    "## What is data mining？\n",
    "- History\n",
    "    - Bayes' theorem: 1768\n",
    "    - Regression: 1805\n",
    "    - 1936: Terning machine\n",
    "    - 1943：Neural networks\n",
    "    - 1959: Machine learing\n",
    "    - 1965: Evolutionary Compution\n",
    "    - 1970s: Databases\n",
    "    - 1975: Genetic algorithm\n",
    "    - KDD: 1989\n",
    "    - SVM: 1992\n",
    "    - Data science teams: 2001\n",
    "    - Moneyball: 2003\n",
    "    - Today: Big data\n",
    "    - Today: Deep Learning\n",
    "    - ...\n",
    "- Definition\n",
    "    - Extract useful patterns from (usually large-scale) data\n",
    "    - Stored (System) / Managed (Dayabeses) / Analysis (this class)\n",
    "    - Data Mining = Big data = ...\n",
    "    - Not Data Mining: Search / Query\n",
    "    - is Data Mining: Class, Group ...\n",
    "- Tasks\n",
    "    - Predictive mathods: Regression / Classification / Recommender System\n",
    "    - Descriptive methods: Clustering / Association (make it human-interpretable)\n",
    "    - ...\n",
    "  - Overlap with Databases(query) / Machine learning(model) / CV Theory"
   ]
  }
 ],
 "metadata": {
  "kernelspec": {
   "display_name": "Python 3",
   "language": "python",
   "name": "python3"
  },
  "language_info": {
   "codemirror_mode": {
    "name": "ipython",
    "version": 3
   },
   "file_extension": ".py",
   "mimetype": "text/x-python",
   "name": "python",
   "nbconvert_exporter": "python",
   "pygments_lexer": "ipython3",
   "version": "3.6.4"
  }
 },
 "nbformat": 4,
 "nbformat_minor": 2
}
