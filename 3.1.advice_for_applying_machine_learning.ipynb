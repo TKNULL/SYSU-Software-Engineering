{
 "cells": [
  {
   "cell_type": "markdown",
   "metadata": {},
   "source": [
    "# Advice for Applying Machine Learning\n",
    "`jskyzero` `2018/03/28`"
   ]
  },
  {
   "cell_type": "markdown",
   "metadata": {},
   "source": [
    "## Debug a Learing Algorithm\n",
    "\n",
    "$J(\\theta_0, \\theta_1, ..., \\theta_m) = \\frac{1}{2m}[\\sum_{i = 1}^{m}(h_\\theta(x^i) - y^i)^2 + \\lambda \\sum_{j=1}^{m}\\theta_j^2]$\n",
    "\n",
    "超参数：Dimension $\\alpha$ $\\lambda$ $m$ ...\n",
    "\n",
    "诊断(diagnostic): 花时间指导修改\n",
    "\n",
    "验证你的猜想：划分数据集和测试集，然后用测试集测试\n",
    "\n",
    "选择哪个模型？在测试集上误差最小的。（对测试集是最好的，但是不一定全局最好）\n",
    "\n",
    "数据划分：交叉验证（用测试来选择超参数）,用验证后选择的超参数去计算预测误差。\n",
    "\n",
    "## Bias vs Variance\n",
    "\n",
    "bias: 训练集拟合偏差\n",
    "variance: 测试集拟合偏差\n",
    "\n",
    "正则化：选取$\\lambda$,可以使用$\\frac {2 ^ i}{100} $来测试\n",
    "\n",
    "## Learn Curves\n",
    "\n",
    "学习曲线，x：训练集大小，y：误差。\n",
    "\n",
    "## 总结\n",
    "\n",
    "解决过拟合\n",
    "+ 增加样本数：bias/variance会接近\n",
    "+ 减少特征数（多项式次数）\n",
    "+ 增加正则化系数\n",
    "\n",
    "解决欠拟合：\n",
    "+ 增加特征数（多项式次数）\n",
    "+ 减少正则化系数"
   ]
  }
 ],
 "metadata": {
  "kernelspec": {
   "display_name": "Python 3",
   "language": "python",
   "name": "python3"
  },
  "language_info": {
   "codemirror_mode": {
    "name": "ipython",
    "version": 3
   },
   "file_extension": ".py",
   "mimetype": "text/x-python",
   "name": "python",
   "nbconvert_exporter": "python",
   "pygments_lexer": "ipython3",
   "version": "3.6.4"
  }
 },
 "nbformat": 4,
 "nbformat_minor": 2
}
