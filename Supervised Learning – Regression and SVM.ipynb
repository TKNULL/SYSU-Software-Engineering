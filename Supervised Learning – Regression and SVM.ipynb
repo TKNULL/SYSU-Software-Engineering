{
 "cells": [
  {
   "cell_type": "markdown",
   "metadata": {},
   "source": [
    "# Supervised Learning – Regression and SVM\n",
    "`jskyzero` `2018/03/26`"
   ]
  },
  {
   "cell_type": "code",
   "execution_count": 1,
   "metadata": {},
   "outputs": [],
   "source": [
    "import math\n",
    "import numpy as np\n",
    "import matplotlib.pyplot as plt\n",
    "from mpl_toolkits.mplot3d import Axes3D\n",
    "\n",
    "%matplotlib inline"
   ]
  },
  {
   "cell_type": "markdown",
   "metadata": {},
   "source": [
    "## 线性回归\n",
    "\n",
    "某班主任为了了解本班同学的数学和其他科目考试成绩间关系，在某次阶段性测试中，他在全班学生中随机\n",
    "抽取 1 个容量为 5 的样本进行分析。该样本中 5 位同学的数学和其他科目成绩对应如下表：\n",
    "\n",
    "| 学生编号    | 1    | 2    | 3    | 4    | 5    |\n",
    "| ------- | ---- | ---- | ---- | ---- | ---- |\n",
    "| 数学分数 m  | 89   | 91   | 93   | 95   | 97   |\n",
    "| 物理分数 p  | 87   | 89   | 89   | 92   | 93   |\n",
    "| 语文分数 c  | 72   | 76   | 74   | 71   | 76   |\n",
    "| 英语分数 e  | 83   | 88   | 82   | 91   | 89   |\n",
    "| 化学分数 ch | 90   | 93   | 91   | 89   | 94   |\n",
    "\n",
    "利用以上数据，建立 m 与其他变量的多元线性回归方程，并回答下列问题：\n",
    "\n",
    "1. 在线性回归中，利用梯度下降法，令参数向量𝜽0初始值全为𝟎，学习率α为 1，算出经过第一次迭代后的参数向量𝜽1；\n",
    "2. 讨论（1）中所算出的𝜽1是否可以使线性回归中的代价函数𝐽(𝜽)下降，即𝐽(𝜽1) < 𝐽(𝜽0)；\n",
    "3. 讨论是否可以选取更佳的学习率α，经过第一次迭代后，使代价函数𝐽(𝜽)下降得更快；\n",
    "4. 利用标准方程求出最优的多元线性回归方程（系数精确到 0.01），并预测该班物理分数 88、语文分数 73、英语分数 87、化学分数 92 同学的数学分数。\n",
    "5. 在 L2 正则化线性回归中，令正则化平衡系数λ为 1，利用标准方程求出最优的 L2 正则化多元线性回归方程（系数精确到 0.01），并比较其与（4）中得出的多元线性回归方程对数学分数的预测，哪个更好。"
   ]
  },
  {
   "cell_type": "code",
   "execution_count": 7,
   "metadata": {},
   "outputs": [
    {
     "data": {
      "text/plain": [
       "93"
      ]
     },
     "execution_count": 7,
     "metadata": {},
     "output_type": "execute_result"
    }
   ],
   "source": [
    "# import data\n",
    "m = [89, 91, 93, 95, 97]\n",
    "p = [87, 89, 89, 92, 93]\n",
    "c = [72, 76, 74, 71, 76]\n",
    "e = [83, 88, 82, 91, 89]\n",
    "ch = [90, 93, 91, 89, 94]\n",
    "data = [m, p, c, e, ch]\n",
    "# initial theta\n",
    "theta = list(map(lambda x: 1, range(0, 5)))\n",
    "\n",
    "data[0][2]"
   ]
  },
  {
   "cell_type": "markdown",
   "metadata": {},
   "source": [
    "## 逻辑回归\n",
    "研究人员对使用雌激素与子宫内膜癌发病间的关系进行了 1:1 配对的病例对照研究。病例与对照按年龄相近、婚姻状况相同、生活的社区相同进行了配对。收集了年龄、雌激素药使用、胆囊病史、高血压和非雌激素药\n",
    "使用的数据。变量定义及具体数据如下：\n",
    "\n",
    "match：配比组\n",
    "\n",
    "case：case=1 病例；case=0 对照（未发病）\n",
    "\n",
    "est：est=1 使用过雌激素；est=0 未使用雌激素；\n",
    "\n",
    "gall：gall=1 有胆囊病史；gall=0 无胆囊病史；\n",
    "\n",
    "hyper：hyper=1 有高血压；hyper=0 无高血压；\n",
    "\n",
    "nonest：nonest=1 使用过非雌激素；nonest=0 未使用过非雌激素；\n",
    "\n",
    "Problem Set #1\n",
    "\n",
    "\n",
    "| Match | Case | Est  | Gall | Hyper | Nonest |\n",
    "| ----- | ---- | ---- | ---- | ----- | ------ |\n",
    "|1 | 1 | 1 | 1 | 0 | 1|\n",
    "|1 | 0 | 0 | 1 | 0 | 0|\n",
    "|2 | 1 | 1 | 0 | 1 | 1|\n",
    "|2 | 0 | 0 | 0 | 0 | 1|\n",
    "|3 | 1 | 1 | 1 | 0 | 1|\n",
    "|3 | 0 | 1 | 0 | 1 | 1|\n",
    "|4 | 1 | 1 | 0 | 0 | 0|\n",
    "|4 | 0 | 1 | 0 | 1 | 1|\n",
    "|5 | 1 | 1 | 0 | 1 | 1|\n",
    "|5 | 0 | 0 | 0 | 0 | 0|\n",
    "|6 | 1 | 1 | 1 | 0 | 1|\n",
    "|6 | 0 | 0 | 0 | 0 | 0|\n",
    "|7 | 1 | 1 | 0 | 0 | 1|\n",
    "|7 | 0 | 0 | 0 | 0 | 0|\n",
    "|8 | 1 | 1 | 1 | 1 | 1|\n",
    "|8 | 0 | 0 | 0 | 1 | 1|\n",
    "|9 | 1 | 1 | 0 | 0 | 1|\n",
    "|9 | 0 | 1 | 0 | 0 | 1|\n",
    "|10 | 1 | 0 | 0 | 0 | 1|\n",
    "|10 | 0 | 0 | 0 | 0 | 1|\n",
    "|11 | 1 | 1 | 0 | 1 | 1|\n",
    "|11 | 0 | 1 | 0 | 1 | 1|\n",
    "|12 | 1 | 0 | 0 | 0 | 1|\n",
    "|12 | 0 | 0 | 0 | 1 | 1|\n",
    "|13 | 1 | 1 | 0 | 1 | 1|\n",
    "|13 | 0 | 0 | 0 | 0 | 0|\n",
    "|14 | 1 | 1 | 0 | 0 | 1|\n",
    "|14 | 0 | 0 | 0 | 0 | 0|\n",
    "|15 | 1 | 1 | 0 | 1 | 1|\n",
    "|15 | 0 | 1 | 0 | 0 | 1|\n",
    "|16 | 1 | 1 | 0 | 0 | 1|\n",
    "|16 | 0 | 1 | 0 | 1 | 1|\n",
    "|17 | 1 | 1 | 0 | 0 | 1|\n",
    "|17 | 0 | 0 | 0 | 0 | 0|\n",
    "|18 | 1 | 0 | 1 | 0 | 1|\n",
    "|18 | 0 | 0 | 0 | 1 | 0|\n",
    "|19 | 1 | 1 | 1 | 0 | 1|\n",
    "|19 | 0 | 1 | 1 | 0 | 0|\n",
    "|20 | 1 | 1 | 0 | 0 | 0|\n",
    "|20 | 0 | 1 | 0 | 1 | 1|\n",
    "\n",
    "1. 调用逻辑回归函数或实现求解 L2 逻辑回归分析的梯度下降算法，求出最优的逻辑回归模型；\n",
    "2. 尝试找出对影响子宫内膜癌发病的最直接的因素；\n",
    "3. 编程实现求解 L2 正则化逻辑回归分析的梯度下降算法，并求出正则化平衡系数λ为 1 时的最优正则化逻辑回归模型（加分题）。"
   ]
  },
  {
   "cell_type": "markdown",
   "metadata": {},
   "source": [
    "## 支持向量机\n",
    "考虑以下的两类训练样本集\n",
    "\n",
    "| 特征 1 | 特征 2 | 类标   |\n",
    "| ---- | ---- | ---- |\n",
    "| 1    | 1    | +    |\n",
    "| 2    | 2    | +    |\n",
    "| 2    | 0    | +    |\n",
    "| 0    | 0    | -    |\n",
    "| 1    | 0    | -    |\n",
    "| 0    | 1    | -    |\n",
    "\n",
    "1.  在图中画出这 6 个训练样本点和支持向量机对应的最优超平面（决策边界），并写出对应的超平面方程；\n",
    "2.  假设增加一些训练样本点，这些点能被正确分类且远离最优超平面（决策边界），说明最优超平面（决策边界）不受新增训练样本点影响，而线性回归会受影响的原因；\n",
    "3.  指出哪些是支持向量，并求出两个异类支持向量到最优超平面（决策边界）的距离之和；\n",
    "4.  通过寻找拉格朗日待定乘数αi来构造对偶空间的解，并将其与（1）中结果作比较。"
   ]
  },
  {
   "cell_type": "code",
   "execution_count": 16,
   "metadata": {},
   "outputs": [
    {
     "data": {
      "image/png": "[encoded data removed]",
      "text/plain": [
       "<matplotlib.figure.Figure at 0x199abe88630>"
      ]
     },
     "metadata": {},
     "output_type": "display_data"
    }
   ],
   "source": [
    "feature_1 = [1, 2, 2, 0, 1, 0]\n",
    "feature_2 = [1, 2, 0, 0, 0, 1]\n",
    "label = [1, 1, 1, -1, -1, -1]\n",
    "\n",
    "super_space_function = lambda x : 1.5 - x\n",
    "x = np.linspace(min(feature_1), max(feature_1), 1000)\n",
    "y = np.vectorize(super_space_function)(x)\n",
    "plt.plot(x, y, color='y', label=\"super_space_function\")\n",
    "\n",
    "\n",
    "for i in range(0, len(label)):\n",
    "    color = 'r' if label[i] == 1 else 'b' \n",
    "    plt.plot(feature_1[i], feature_2[i], 'ro', color=color)"
   ]
  },
  {
   "cell_type": "markdown",
   "metadata": {},
   "source": [
    "1. 画出这 6 个训练样本点和支持向量机对应的最优超平面如上图，对应的超平面方程是 $y + x - 1.5 = 0$\n",
    "2. 因为SVM中影响超平面的主要是距离超平面最近的那些“支持向量”，已知训练样本是能正确分类但是原理最优超平面的话，这些训练样本就并不会影响到最优超平面，而所有样本都是会影响到线性回归的预测函数，故会影响到线性回归。\n",
    "3. 如图，(1,1) (2, 0) (1, 0) (0,1) 是离超平面最近的向量（支持向量），选取(0, 1) (1, 1)两个点，求得距离为$\\frac{\\sqrt{2}}{2}$\n",
    "4. 求解过程如下："
   ]
  }
 ],
 "metadata": {
  "kernelspec": {
   "display_name": "Python 3",
   "language": "python",
   "name": "python3"
  },
  "language_info": {
   "codemirror_mode": {
    "name": "ipython",
    "version": 3
   },
   "file_extension": ".py",
   "mimetype": "text/x-python",
   "name": "python",
   "nbconvert_exporter": "python",
   "pygments_lexer": "ipython3",
   "version": "3.6.4"
  }
 },
 "nbformat": 4,
 "nbformat_minor": 2
}
