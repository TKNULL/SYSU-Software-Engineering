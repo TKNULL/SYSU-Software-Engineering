{
 "cells": [
  {
   "cell_type": "markdown",
   "metadata": {},
   "source": [
    "# Supervised Learning – Regression and SVM\n",
    "`jskyzero` `2018/03/26`"
   ]
  },
  {
   "cell_type": "code",
   "execution_count": 1,
   "metadata": {},
   "outputs": [],
   "source": [
    "import math\n",
    "import numpy as np\n",
    "import matplotlib.pyplot as plt\n",
    "from mpl_toolkits.mplot3d import Axes3D\n",
    "\n",
    "%matplotlib inline"
   ]
  },
  {
   "cell_type": "markdown",
   "metadata": {},
   "source": [
    "## 线性回归\n",
    "\n",
    "某班主任为了了解本班同学的数学和其他科目考试成绩间关系，在某次阶段性测试中，他在全班学生中随机\n",
    "抽取 1 个容量为 5 的样本进行分析。该样本中 5 位同学的数学和其他科目成绩对应如下表：\n",
    "\n",
    "| 学生编号    | 1    | 2    | 3    | 4    | 5    |\n",
    "| ------- | ---- | ---- | ---- | ---- | ---- |\n",
    "| 数学分数 m  | 89   | 91   | 93   | 95   | 97   |\n",
    "| 物理分数 p  | 87   | 89   | 89   | 92   | 93   |\n",
    "| 语文分数 c  | 72   | 76   | 74   | 71   | 76   |\n",
    "| 英语分数 e  | 83   | 88   | 82   | 91   | 89   |\n",
    "| 化学分数 ch | 90   | 93   | 91   | 89   | 94   |\n",
    "\n",
    "利用以上数据，建立 m 与其他变量的多元线性回归方程，并回答下列问题：\n",
    "\n",
    "1. 在线性回归中，利用梯度下降法，令参数向量𝜽0初始值全为𝟎，学习率α为 1，算出经过第一次迭代后的参数向量𝜽1；\n",
    "2. 讨论（1）中所算出的𝜽1是否可以使线性回归中的代价函数𝐽(𝜽)下降，即𝐽(𝜽1) < 𝐽(𝜽0)；\n",
    "3. 讨论是否可以选取更佳的学习率α，经过第一次迭代后，使代价函数𝐽(𝜽)下降得更快；\n",
    "4. 利用标准方程求出最优的多元线性回归方程（系数精确到 0.01），并预测该班物理分数 88、语文分数 73、英语分数 87、化学分数 92 同学的数学分数。\n",
    "5. 在 L2 正则化线性回归中，令正则化平衡系数λ为 1，利用标准方程求出最优的 L2 正则化多元线性回归方程（系数精确到 0.01），并比较其与（4）中得出的多元线性回归方程对数学分数的预测，哪个更好。"
   ]
  },
  {
   "cell_type": "code",
   "execution_count": 2,
   "metadata": {},
   "outputs": [],
   "source": [
    "# import data\n",
    "m = [89, 91, 93, 95, 97]\n",
    "p = [87, 89, 89, 92, 93]\n",
    "c = [72, 76, 74, 71, 76]\n",
    "e = [83, 88, 82, 91, 89]\n",
    "ch = [90, 93, 91, 89, 94]\n",
    "# initial data\n",
    "x = np.vstack([m, p, c, e, ch])\n",
    "y = x[0,:].copy()\n",
    "x[0, :] = 1\n",
    "# initial theta\n",
    "theta = np.fromfunction(lambda x : x - x, (5, ))\n",
    "\n",
    "# h(x) = sum(theta_i * x_i)\n",
    "hypothesis = lambda x, theta : sum([x_i * theta_i for x_i, theta_i in zip(x, theta)])\n",
    "# cost = (h(x) - y) ^ 2\n",
    "cost = lambda y, hx : (hx - y) ** 2\n",
    "# total_cost\n",
    "total_cost = lambda x, theta, y : sum([cost(y[i], hypothesis(x[:, i], theta)) for i in range(0, x.shape[1], 1)]) / (2 * x.shape[1])\n",
    "# update\n",
    "update = lambda x, y, alpha, theta : np.array([theta[i] - alpha * np.mean([(hypothesis(x[:, j], theta) - y[j]) *  x[i, j] for j in range(0, x.shape[1], 1)]) for i in range(0, len(theta), 1)])"
   ]
  },
  {
   "cell_type": "code",
   "execution_count": 3,
   "metadata": {},
   "outputs": [
    {
     "name": "stdout",
     "output_type": "stream",
     "text": [
      "theta_1 =  [  93.  8376.  6864.6 8059.8 8501.8]\n"
     ]
    }
   ],
   "source": [
    "# 1. 在线性回归中，利用梯度下降法，令参数向量𝜽0初始值全为𝟎，学习率α为 1，算出经过第一次迭代后的参数向量𝜽1；\n",
    "\n",
    "theta_1 = update(x, y, 1,theta)\n",
    "print(\"theta_1 = \", theta_1)"
   ]
  },
  {
   "cell_type": "code",
   "execution_count": 4,
   "metadata": {},
   "outputs": [
    {
     "name": "stdout",
     "output_type": "stream",
     "text": [
      "J(theta_0) =  4328.5\n",
      "J(theta_1) =  3743077544562.6123\n",
      "J(theta_1) < J(theta_0) =  False\n"
     ]
    }
   ],
   "source": [
    "# 2. 讨论（1）中所算出的𝜽1是否可以使线性回归中的代价函数𝐽(𝜽)下降，即𝐽(𝜽1) < 𝐽(𝜽0)；\n",
    "\n",
    "print(\"J(theta_0) = \", total_cost(x, theta, y))\n",
    "print(\"J(theta_1) = \", total_cost(x, theta_1, y))\n",
    "print(\"J(theta_1) < J(theta_0) = \", total_cost(x, theta_1, y) < total_cost(x, theta, y))"
   ]
  },
  {
   "cell_type": "code",
   "execution_count": 5,
   "metadata": {},
   "outputs": [
    {
     "name": "stdout",
     "output_type": "stream",
     "text": [
      "best_alpha =  3.0517578125e-05\n",
      "max_drop =  4281.381486414343\n"
     ]
    }
   ],
   "source": [
    "# 3. 讨论是否可以选取更佳的学习率α，经过第一次迭代后，使代价函数𝐽(𝜽)下降得更快；\n",
    "\n",
    "max_drop = 0\n",
    "best_alpha = 1\n",
    "\n",
    "alpha = 1\n",
    "while alpha > 0.000001:\n",
    "    before = total_cost(x, theta, y)\n",
    "    after = total_cost(x, update(x, y, alpha,theta), y)\n",
    "    # if better update\n",
    "    if (before - after) > max_drop:\n",
    "        max_drop = before - after\n",
    "        best_alpha = alpha\n",
    "    alpha = alpha / 2\n",
    "print(\"best_alpha = \", best_alpha)\n",
    "print(\"max_drop = \", max_drop)"
   ]
  },
  {
   "cell_type": "code",
   "execution_count": 6,
   "metadata": {},
   "outputs": [
    {
     "name": "stdout",
     "output_type": "stream",
     "text": [
      "theta_4 =  ['-19.50', '1.69', '0.37', '-0.31', '-0.44']\n",
      "J(theta_4) = 0.00\n",
      "prediction = 88.94\n"
     ]
    }
   ],
   "source": [
    "# 4. 利用标准方程求出最优的多元线性回归方程（系数精确到 0.01），并预测该班物理分数 88、语文分数 73、英语分数 87、化学分数 92 同学的数学分数。\n",
    "\n",
    "# why there is a transpose ? \n",
    "# make sure every row is a sample\n",
    "X = np.matrix(x).T\n",
    "Y = np.matrix(y)\n",
    "\n",
    "theta_4 = np.array((X.T * X).I * X.T * Y.T)\n",
    "print(\"theta_4 = \", list(map(lambda x : \"{:.2f}\".format(x[0]), theta_4)))\n",
    "print(\"J(theta_4) = {:.2f}\".format(total_cost(x, theta_4, y)[0]))\n",
    "\n",
    "x_test = [1, 88, 73, 87, 92]\n",
    "print(\"prediction = {:.2f}\".format(hypothesis(x_test, theta_4)[0]))"
   ]
  },
  {
   "cell_type": "code",
   "execution_count": 7,
   "metadata": {},
   "outputs": [
    {
     "name": "stdout",
     "output_type": "stream",
     "text": [
      "theta_5 =  ['-41.19', '1.85', '-0.38', '-0.45', '0.37']\n",
      "J(theta_5) = 0.10\n",
      "prediction = 89.64\n"
     ]
    }
   ],
   "source": [
    "# 5. 在 L2 正则化线性回归中，令正则化平衡系数λ为 1，利用标准方程求出最优的 L2 正则化多元线性回归方程（系数精确到 0.01），\n",
    "# 并比较其与（4）中得出的多元线性回归方程对数学分数的预测，哪个更好。\n",
    "\n",
    "I = np.matrix([[ 1 if j == i and not j == 0 else 0 for j in range(0, 5, 1)]for i in range(0, 5, 1)])\n",
    "theta_5 = np.array((X.T * X - 1 * I ) ** -1 * X.T * Y.T)\n",
    "print(\"theta_5 = \", list(map(lambda x : \"{:.2f}\".format(x[0]), theta_5)))\n",
    "print(\"J(theta_5) = {:.2f}\".format(total_cost(x, theta_5, y)[0]))\n",
    "\n",
    "# x_test = [1, 88, 73, 87, 92]\n",
    "print(\"prediction = {:.2f}\".format(hypothesis(x_test, theta_5)[0]))"
   ]
  },
  {
   "cell_type": "markdown",
   "metadata": {},
   "source": [
    "###  哪个更好\n",
    "我觉得加了正则项的预测可能更好一些，因为待预测学生各课成绩都比编号1的学生要好，就符合常识上来说，我们认为他的数学分数也具有较大可能性比编号1的同学的数学成绩要好，因而加了正则项的预测可能更加符合实际一些。"
   ]
  },
  {
   "cell_type": "markdown",
   "metadata": {},
   "source": [
    "## 逻辑回归\n",
    "研究人员对使用雌激素与子宫内膜癌发病间的关系进行了 1:1 配对的病例对照研究。病例与对照按年龄相近、婚姻状况相同、生活的社区相同进行了配对。收集了年龄、雌激素药使用、胆囊病史、高血压和非雌激素药\n",
    "使用的数据。变量定义及具体数据如下：\n",
    "\n",
    "match：配比组\n",
    "\n",
    "case：case=1 病例；case=0 对照（未发病）\n",
    "\n",
    "est：est=1 使用过雌激素；est=0 未使用雌激素；\n",
    "\n",
    "gall：gall=1 有胆囊病史；gall=0 无胆囊病史；\n",
    "\n",
    "hyper：hyper=1 有高血压；hyper=0 无高血压；\n",
    "\n",
    "nonest：nonest=1 使用过非雌激素；nonest=0 未使用过非雌激素；\n",
    "\n",
    "Problem Set #1\n",
    "\n",
    "\n",
    "| Match | Case | Est  | Gall | Hyper | Nonest |\n",
    "| ----- | ---- | ---- | ---- | ----- | ------ |\n",
    "|1 | 1 | 1 | 1 | 0 | 1|\n",
    "|1 | 0 | 0 | 1 | 0 | 0|\n",
    "|2 | 1 | 1 | 0 | 1 | 1|\n",
    "|2 | 0 | 0 | 0 | 0 | 1|\n",
    "|3 | 1 | 1 | 1 | 0 | 1|\n",
    "|3 | 0 | 1 | 0 | 1 | 1|\n",
    "|4 | 1 | 1 | 0 | 0 | 0|\n",
    "|4 | 0 | 1 | 0 | 1 | 1|\n",
    "|5 | 1 | 1 | 0 | 1 | 1|\n",
    "|5 | 0 | 0 | 0 | 0 | 0|\n",
    "|6 | 1 | 1 | 1 | 0 | 1|\n",
    "|6 | 0 | 0 | 0 | 0 | 0|\n",
    "|7 | 1 | 1 | 0 | 0 | 1|\n",
    "|7 | 0 | 0 | 0 | 0 | 0|\n",
    "|8 | 1 | 1 | 1 | 1 | 1|\n",
    "|8 | 0 | 0 | 0 | 1 | 1|\n",
    "|9 | 1 | 1 | 0 | 0 | 1|\n",
    "|9 | 0 | 1 | 0 | 0 | 1|\n",
    "|10 | 1 | 0 | 0 | 0 | 1|\n",
    "|10 | 0 | 0 | 0 | 0 | 1|\n",
    "|11 | 1 | 1 | 0 | 1 | 1|\n",
    "|11 | 0 | 1 | 0 | 1 | 1|\n",
    "|12 | 1 | 0 | 0 | 0 | 1|\n",
    "|12 | 0 | 0 | 0 | 1 | 1|\n",
    "|13 | 1 | 1 | 0 | 1 | 1|\n",
    "|13 | 0 | 0 | 0 | 0 | 0|\n",
    "|14 | 1 | 1 | 0 | 0 | 1|\n",
    "|14 | 0 | 0 | 0 | 0 | 0|\n",
    "|15 | 1 | 1 | 0 | 1 | 1|\n",
    "|15 | 0 | 1 | 0 | 0 | 1|\n",
    "|16 | 1 | 1 | 0 | 0 | 1|\n",
    "|16 | 0 | 1 | 0 | 1 | 1|\n",
    "|17 | 1 | 1 | 0 | 0 | 1|\n",
    "|17 | 0 | 0 | 0 | 0 | 0|\n",
    "|18 | 1 | 0 | 1 | 0 | 1|\n",
    "|18 | 0 | 0 | 0 | 1 | 0|\n",
    "|19 | 1 | 1 | 1 | 0 | 1|\n",
    "|19 | 0 | 1 | 1 | 0 | 0|\n",
    "|20 | 1 | 1 | 0 | 0 | 0|\n",
    "|20 | 0 | 1 | 0 | 1 | 1|\n",
    "\n",
    "1. 调用逻辑回归函数或实现求解 L2 逻辑回归分析的梯度下降算法，求出最优的逻辑回归模型；\n",
    "2. 尝试找出对影响子宫内膜癌发病的最直接的因素；\n",
    "3. 编程实现求解 L2 正则化逻辑回归分析的梯度下降算法，并求出正则化平衡系数λ为 1 时的最优正则化逻辑回归模型（加分题）。"
   ]
  },
  {
   "cell_type": "code",
   "execution_count": 9,
   "metadata": {},
   "outputs": [],
   "source": [
    "data = [\n",
    "1,1,1,1,0,1,\n",
    "1,0,0,1,0,0,\n",
    "2,1,1,0,1,1,\n",
    "2,0,0,0,0,1,\n",
    "3,1,1,1,0,1,\n",
    "3,0,1,0,1,1,\n",
    "4,1,1,0,0,0,\n",
    "4,0,1,0,1,1,\n",
    "5,1,1,0,1,1,\n",
    "5,0,0,0,0,0,\n",
    "6,1,1,1,0,1,\n",
    "6,0,0,0,0,0,\n",
    "7,1,1,0,0,1,\n",
    "7,0,0,0,0,0,\n",
    "8,1,1,1,1,1,\n",
    "8,0,0,0,1,1,\n",
    "9,1,1,0,0,1,\n",
    "9,0,1,0,0,1,\n",
    "10,1,0,0,0,1,\n",
    "10,0,0,0,0,1,\n",
    "11,1,1,0,1,1,\n",
    "11,0,1,0,1,1,\n",
    "12,1,0,0,0,1,\n",
    "12,0,0,0,1,1,\n",
    "13,1,1,0,1,1,\n",
    "13,0,0,0,0,0,\n",
    "14,1,1,0,0,1,\n",
    "14,0,0,0,0,0,\n",
    "15,1,1,0,1,1,\n",
    "15,0,1,0,0,1,\n",
    "16,1,1,0,0,1,\n",
    "16,0,1,0,1,1,\n",
    "17,1,1,0,0,1,\n",
    "17,0,0,0,0,0,\n",
    "18,1,0,1,0,1,\n",
    "18,0,0,0,1,0,\n",
    "19,1,1,1,0,1,\n",
    "19,0,1,1,0,0,\n",
    "20,1,1,0,0,0,\n",
    "20,0,1,0,1,1]\n",
    "\n",
    "# initial data\n",
    "type_list = [\"case\",\"est\", \"gall\", \"hyper\", \"nonest\"]\n",
    "x = np.array([data[i + 1::6] for i in range(0, len(type_list), 1)])\n",
    "y = x[0,:].copy()\n",
    "x[0:1] = 1\n",
    "\n",
    "\n",
    "# h(x) = sum(theta_i * x_i)\n",
    "hypothesis = lambda x, theta : 1 / (1 + math.e ** (- 1 * sum([x_i * theta_i for x_i, theta_i in zip(x, theta)])))\n",
    "# cost = (h(x) - y) ^ 2\n",
    "cost = lambda y, hx : -y  *  math.log(hx) - (1 - y) * math.log(1 - hx)"
   ]
  },
  {
   "cell_type": "code",
   "execution_count": 10,
   "metadata": {},
   "outputs": [
    {
     "name": "stdout",
     "output_type": "stream",
     "text": [
      "theta = [-2.65434079  2.21331532  1.06088789 -1.76740262  2.22596908]\n",
      "total cost = 0.23922172270876577\n"
     ]
    }
   ],
   "source": [
    "# 1. 调用逻辑回归函数或实现求解 L2 逻辑回归分析的梯度下降算法，求出最优的逻辑回归模型；\n",
    "\n",
    "# initial theta\n",
    "theta = np.array([ 0 for i in range(0, len(type_list), 1)])\n",
    "\n",
    "times = 0\n",
    "max_times = 5000\n",
    "space = 0.1\n",
    "\n",
    "while (total_cost(x, theta, y) > 0.01 and times < max_times):\n",
    "    theta = update(x, y, space, theta)\n",
    "#     if times % 1000 == 0:\n",
    "#         print(total_cost(x, theta, y))\n",
    "    times = times + 1\n",
    "theta\n",
    "\n",
    "print(\"theta = {}\".format(theta))\n",
    "print(\"total cost = {}\".format(total_cost(x, theta, y)))\n",
    "\n",
    "\n",
    "# this part is test the answer is right or not\n",
    "# from sklearn import linear_model\n",
    "# logreg = linear_model.LogisticRegression(solver='newton-cg')\n",
    "# logreg.fit(x.T, y)\n",
    "\n",
    "# print(total_cost(x, logreg.coef_[0], y))\n",
    "# print(logreg.predict(x.T))\n",
    "# print(sum(abs(logreg.predict(x.T) - y)))\n",
    "# y2 = [1 if hypothesis(x_i, theta) > 0.5  else 0 for x_i in x.T]\n",
    "# print(y2)\n",
    "# print(sum(abs(y2 - y)))"
   ]
  },
  {
   "cell_type": "code",
   "execution_count": 11,
   "metadata": {},
   "outputs": [
    {
     "name": "stdout",
     "output_type": "stream",
     "text": [
      "max type is nonest\n"
     ]
    }
   ],
   "source": [
    "# 尝试找出对影响子宫内膜癌发病的最直接的因素；\n",
    "# 我们认为对预测影响最大，即权值最大\n",
    "\n",
    "print(\"max type is {}\".format(type_list[1:][np.argmax(abs(theta[1:]))]))"
   ]
  },
  {
   "cell_type": "code",
   "execution_count": 12,
   "metadata": {},
   "outputs": [
    {
     "name": "stdout",
     "output_type": "stream",
     "text": [
      "theta = [-2.15912181  1.89966641  0.90523323 -1.47919078  1.78984312]\n",
      "total cost = 1.930246292669674\n"
     ]
    }
   ],
   "source": [
    "# total_cost\n",
    "total_cost = lambda x, theta, y, lambda_theta : sum([cost(y[i], hypothesis(x[:, i], theta)) for i in range(0, x.shape[1], 1)]) /  x.shape[1] + lambda_theta * np.sum(theta**2)\n",
    "# update\n",
    "update = lambda x, y, alpha, theta, lambda_theta : np.array([theta[i] * (1 - alpha * lambda_theta / x.shape[1]) - alpha * np.mean([(hypothesis(x[:, j], theta) - y[j]) *  x[i, j] for j in range(0, x.shape[1], 1)]) for i in range(0, len(theta), 1)])\n",
    "\n",
    "\n",
    "# initial theta\n",
    "theta = np.array([ 0 for i in range(0, len(type_list), 1)])\n",
    "\n",
    "times = 0\n",
    "max_times = 5000\n",
    "space = 0.1\n",
    "lambda_theta = 0.1\n",
    "\n",
    "while (total_cost(x, theta, y, lambda_theta) > 0.01 and times < max_times):\n",
    "    theta = update(x, y, space, theta, lambda_theta)\n",
    "#     if times % 1000 == 0:\n",
    "#         print(total_cost(x, theta, y))\n",
    "    times = times + 1\n",
    "theta\n",
    "\n",
    "print(\"theta = {}\".format(theta))\n",
    "print(\"total cost = {}\".format(total_cost(x, theta, y, lambda_theta)))"
   ]
  },
  {
   "cell_type": "markdown",
   "metadata": {},
   "source": [
    "## 支持向量机\n",
    "考虑以下的两类训练样本集\n",
    "\n",
    "| 特征 1 | 特征 2 | 类标   |\n",
    "| ---- | ---- | ---- |\n",
    "| 1    | 1    | +    |\n",
    "| 2    | 2    | +    |\n",
    "| 2    | 0    | +    |\n",
    "| 0    | 0    | -    |\n",
    "| 1    | 0    | -    |\n",
    "| 0    | 1    | -    |\n",
    "\n",
    "1.  在图中画出这 6 个训练样本点和支持向量机对应的最优超平面（决策边界），并写出对应的超平面方程；\n",
    "2.  假设增加一些训练样本点，这些点能被正确分类且远离最优超平面（决策边界），说明最优超平面（决策边界）不受新增训练样本点影响，而线性回归会受影响的原因；\n",
    "3.  指出哪些是支持向量，并求出两个异类支持向量到最优超平面（决策边界）的距离之和；\n",
    "4.  通过寻找拉格朗日待定乘数αi来构造对偶空间的解，并将其与（1）中结果作比较。"
   ]
  },
  {
   "cell_type": "code",
   "execution_count": 13,
   "metadata": {},
   "outputs": [
    {
     "data": {
      "image/png": "[encoded data removed]",
      "text/plain": [
       "<matplotlib.figure.Figure at 0x2c78857ba90>"
      ]
     },
     "metadata": {},
     "output_type": "display_data"
    }
   ],
   "source": [
    "feature_1 = [1, 2, 2, 0, 1, 0]\n",
    "feature_2 = [1, 2, 0, 0, 0, 1]\n",
    "label = [1, 1, 1, -1, -1, -1]\n",
    "\n",
    "super_space_function = lambda x : 3 - 2.5 * x\n",
    "x = np.linspace(min(feature_1), max(feature_1), 1000)\n",
    "y = np.vectorize(super_space_function)(x)\n",
    "plt.plot(x, y, color='y', label=\"super_space_function\")\n",
    "\n",
    "\n",
    "for i in range(0, len(label)):\n",
    "    color = 'r' if label[i] == 1 else 'b' \n",
    "    plt.plot(feature_1[i], feature_2[i], 'ro', color=color)"
   ]
  },
  {
   "cell_type": "markdown",
   "metadata": {},
   "source": [
    "1. 画出这 6 个训练样本点和支持向量机对应的最优超平面如上图，对应的超平面方程是 $y + 2.5x - 3 = 0$\n",
    "2. 因为SVM中影响超平面的主要是距离超平面最近的那些“支持向量”，已知训练样本是能正确分类但是原理最优超平面的话，这些训练样本就并不会影响到最优超平面，而所有样本都是会影响到线性回归的预测函数，故会影响到线性回归。\n",
    "3. 如图，(1,1) (0, 1) (1, 1) (2,0) 是离超平面最近的向量（支持向量），选取(1, 0) (1, 1)两个点，求得距离为$\\frac{2\\sqrt{29}}{29}$\n",
    "4. 求解过程如下："
   ]
  },
  {
   "cell_type": "code",
   "execution_count": 14,
   "metadata": {
    "scrolled": true
   },
   "outputs": [
    {
     "name": "stdout",
     "output_type": "stream",
     "text": [
      "[-1.4]\n",
      "[[1.2 0.4]]\n",
      "[[1. 0.]\n",
      " [0. 1.]\n",
      " [1. 1.]\n",
      " [2. 0.]]\n"
     ]
    },
    {
     "data": {
      "text/plain": [
       "<matplotlib.collections.PathCollection at 0x2c7896150f0>"
      ]
     },
     "execution_count": 14,
     "metadata": {},
     "output_type": "execute_result"
    },
    {
     "data": {
      "image/png": "[encoded data removed]",
      "text/plain": [
       "<matplotlib.figure.Figure at 0x2c7889254a8>"
      ]
     },
     "metadata": {},
     "output_type": "display_data"
    }
   ],
   "source": [
    "from sklearn import svm\n",
    "clf = svm.SVC(kernel='linear')\n",
    "X = np.array([feature_1, feature_2]).T\n",
    "y = label\n",
    "clf.fit(X, y) \n",
    "print(clf.intercept_)\n",
    "print(clf.coef_)\n",
    "print(clf.support_vectors_)\n",
    "\n",
    "\n",
    "plt.scatter(X[:, 0], X[:, 1], c=y, s=30, cmap=plt.cm.Paired)\n",
    "\n",
    "# plot the decision function\n",
    "ax = plt.gca()\n",
    "xlim = ax.get_xlim()\n",
    "ylim = ax.get_ylim()\n",
    "\n",
    "# create grid to evaluate model\n",
    "xx = np.linspace(xlim[0], xlim[1], 30)\n",
    "yy = np.linspace(ylim[0], ylim[1], 30)\n",
    "YY, XX = np.meshgrid(yy, xx)\n",
    "xy = np.vstack([XX.ravel(), YY.ravel()]).T\n",
    "Z = clf.decision_function(xy).reshape(XX.shape)\n",
    "# plot decision boundary and margins\n",
    "ax.contour(XX, YY, Z, colors='k', levels=[-1, 0, 1], alpha=0.5,\n",
    "           linestyles=['--', '-', '--'])\n",
    "# plot support vectors\n",
    "ax.scatter(clf.support_vectors_[:, 0], clf.support_vectors_[:, 1], s=100,\n",
    "           linewidth=1, facecolors='none')\n"
   ]
  }
 ],
 "metadata": {
  "kernelspec": {
   "display_name": "Python 3",
   "language": "python",
   "name": "python3"
  },
  "language_info": {
   "codemirror_mode": {
    "name": "ipython",
    "version": 3
   },
   "file_extension": ".py",
   "mimetype": "text/x-python",
   "name": "python",
   "nbconvert_exporter": "python",
   "pygments_lexer": "ipython3",
   "version": "3.6.4"
  }
 },
 "nbformat": 4,
 "nbformat_minor": 2
}
