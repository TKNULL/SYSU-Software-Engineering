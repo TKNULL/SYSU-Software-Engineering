{
 "cells": [
  {
   "cell_type": "markdown",
   "metadata": {},
   "source": [
    "# Supervised Learning II\n",
    "`jskyzero` `2018/04/22`"
   ]
  },
  {
   "cell_type": "code",
   "execution_count": 1,
   "metadata": {},
   "outputs": [],
   "source": [
    "import math\n",
    "import numpy as np\n",
    "import matplotlib.pyplot as plt\n",
    "from mpl_toolkits.mplot3d import Axes3D\n",
    "\n",
    "%matplotlib inline"
   ]
  },
  {
   "cell_type": "markdown",
   "metadata": {},
   "source": [
    "## 模型的性能度量\n",
    "\n",
    " \n",
    "\n",
    "我们需要比较两个分类模型$M_1$和$M_2$。他们在10个二类（+或-）样本所组成的测试集上的分类结果如下表格中所示。假设我们更关心正样本是否能被正确检测。\n",
    "\n",
    " \n",
    "\n",
    "| Instance | True Class | Scores  from $M_1$                       | Scores  from $M_2$                       |\n",
    "| -------- | ---------- | ---------------------------------------- | ---------------------------------------- |\n",
    "| 1        | +          | 0.73                                     | 0.61                                     |\n",
    "| 2        | +          | 0.69                                     | 0.03                                     |\n",
    "| 3        | -          | 0.44                                     | 0.68                                     |\n",
    "| 4        | -          | 0.55                                     | 0.31                                     |\n",
    "| 5        | -          | 0.67                                     | 0.45                                     |\n",
    "| 6        | +          | 0.47                                     | 0.09                                     |\n",
    "| 7        | -          | 0.08                                     | 0.38                                     |\n",
    "| 8        | -          | 0.15                                     | 0.05                                     |\n",
    "| 9        | +          | 0.45                                     | 0.01                                     |\n",
    "| 10       | -          | 0.35                                     | 0.04                                     |\n",
    "\n",
    " \n",
    "\n",
    "（1）对于分类模型$M_1$，取阈值为0.5，分别计算分类准确率（accuracy）、查准率（precision）、查全率（recall，又称真正例率，true positive rate，TPR）、假正例率（false positive rate，FPR）和F-measure；\n",
    "\n",
    "（2）对于分类模型$M_2$，取阈值为0.5，分别计算分类准确率（accuracy）、查准率（precision）、查全率（recall，又称真正例率，true positive rate，TPR）、假正例率（false positive rate，FPR）和F-measure；并与分类模型$M_1$比较，分析哪个分类模型在这个测试集上表现更好；\n",
    "\n",
    "（3）对于分类模型$M_1$，取阈值为0.2，分别计算分类准确率（accuracy）、查准率（precision）、查全率（recall，又称真正例率，true positive rate，TPR）、假正例率（false positive rate，FPR）和F-measure；并讨论当阈值为0.2或0.5时，哪个分类模型$M_1$的分类结果哪个更好；\n",
    "\n",
    "（4）试讨论是否存在更好的阈值；若存在，请求出最优阈值并说明原因。"
   ]
  },
  {
   "cell_type": "code",
   "execution_count": 72,
   "metadata": {},
   "outputs": [],
   "source": [
    "## read data\n",
    "data_str = '''\n",
    "| 1        | +          | 0.73                                     | 0.61                                     |\n",
    "| 2        | +          | 0.69                                     | 0.03                                     |\n",
    "| 3        | -          | 0.44                                     | 0.68                                     |\n",
    "| 4        | -          | 0.55                                     | 0.31                                     |\n",
    "| 5        | -          | 0.67                                     | 0.45                                     |\n",
    "| 6        | +          | 0.47                                     | 0.09                                     |\n",
    "| 7        | -          | 0.08                                     | 0.38                                     |\n",
    "| 8        | -          | 0.15                                     | 0.05                                     |\n",
    "| 9        | +          | 0.45                                     | 0.01                                     |\n",
    "| 10       | -          | 0.35                                     | 0.04                                     |\n",
    "'''\n",
    "data_str = map(lambda str : str.strip(' '), data_str.replace('\\n', '').split('|'))\n",
    "data = np.delete(np.array(list(data_str))[0:-1].reshape(10, 5), 0, 1)\n",
    "M1 = data[:,0:3]\n",
    "M2 = np.hstack((data[:, 0:2], data[:, 3:4]))\n"
   ]
  },
  {
   "cell_type": "code",
   "execution_count": 17,
   "metadata": {},
   "outputs": [
    {
     "ename": "AttributeError",
     "evalue": "'map' object has no attribute 'rstrip'",
     "output_type": "error",
     "traceback": [
      "\u001b[1;31m---------------------------------------------------------------------------\u001b[0m",
      "\u001b[1;31mAttributeError\u001b[0m                            Traceback (most recent call last)",
      "\u001b[1;32m<ipython-input-17-e571b11bf186>\u001b[0m in \u001b[0;36m<module>\u001b[1;34m()\u001b[0m\n\u001b[1;32m----> 1\u001b[1;33m \u001b[0mdata_str\u001b[0m\u001b[1;33m.\u001b[0m\u001b[0mrstrip\u001b[0m\u001b[1;33m(\u001b[0m\u001b[1;33m)\u001b[0m\u001b[1;33m\u001b[0m\u001b[0m\n\u001b[0m",
      "\u001b[1;31mAttributeError\u001b[0m: 'map' object has no attribute 'rstrip'"
     ]
    }
   ],
   "source": []
  },
  {
   "cell_type": "markdown",
   "metadata": {},
   "source": [
    "## 神经网络\n",
    "考虑以下的二类训练样本集\n",
    "\n",
    " \n",
    "\n",
    "| Instance | Feature vector $x$ | Output label $y$ |\n",
    "| -------- | ---------------------------------------- | ---------------------------------------- |\n",
    "| 1        | (0, 0)                                   | +                                        |\n",
    "| 2        | (1, 0)                                   | +                                        |\n",
    "| 3        | (0, 1)                                   | -                                        |\n",
    "| 4        | (-1, 0)                                  | -                                        |\n",
    "| 5        | (1, -1)                                  | -                                        |\n",
    "\n",
    " \n",
    "\n",
    "对此训练样本集，我们需要训练一个三层神经网络（输入层、单隐层、输出层），其中单隐层的单元（神经元）数目设为2，激活函数（activation function）为Sigmoid函数： \n",
    "\n",
    " \n",
    "\n",
    "（1）在二维坐标系中画出这5个训练样本点，并讨论此训练样本集是否线性可分；\n",
    "\n",
    "（2）试分析将Sigmoid激活函数换成线性函数的缺陷；\n",
    "\n",
    "（3）令初始化参数全部为0，试运用前馈（feedforward）算法计算在初始化参数下此三层神经网络的输出；然后运用反向传播（backpropagation）算法，计算代价函数对所有参数的偏导数，并讨论将初始化参数全部设为0所带来的问题；\n",
    "\n",
    "（4）试给出一个神经网络（画出架构图，并写出激活函数及其对应的参数），使此训练样本集的5个训练样本点都可以被正确分类。\n"
   ]
  },
  {
   "cell_type": "markdown",
   "metadata": {},
   "source": [
    "## 决策树\n",
    "\n",
    "考虑以下的二类训练样本集\n",
    "\n",
    " \n",
    "\n",
    "| Instance | A    | B    | Class Label |\n",
    "| -------- | ---- | ---- | ----------- |\n",
    "| 1        | T    | F    | +           |\n",
    "| 2        | T    | T    | +           |\n",
    "| 3        | T    | T    | +           |\n",
    "| 4        | T    | F    | -           |\n",
    "| 5        | T    | T    | +           |\n",
    "| 6        | F    | F    | -           |\n",
    "| 7        | F    | F    | -           |\n",
    "| 8        | F    | F    | -           |\n",
    "| 9        | T    | T    | -           |\n",
    "| 10       | T    | F    | -           |\n",
    "\n",
    " \n",
    "\n",
    "（1）计算以属性A或B为划分的信息熵（Entropy）增益，并说明决策树学习算法选择哪个属性进行划分；\n",
    "\n",
    "（2）计算以属性A或B为划分的Gini增益，并说明决策树学习算法选择哪个属性进行划分；\n",
    "\n",
    "（3）计算以属性A或B为划分的分类误差（ClassificationError）增益，并说明决策树学习算法选择哪个属性进行划分；\n",
    "\n",
    "（4）说明信息熵增益、Gini增益和分类误差增益对属性选择有不一样的偏好。"
   ]
  }
 ],
 "metadata": {
  "kernelspec": {
   "display_name": "Python 3",
   "language": "python",
   "name": "python3"
  },
  "language_info": {
   "codemirror_mode": {
    "name": "ipython",
    "version": 3
   },
   "file_extension": ".py",
   "mimetype": "text/x-python",
   "name": "python",
   "nbconvert_exporter": "python",
   "pygments_lexer": "ipython3",
   "version": "3.6.4"
  }
 },
 "nbformat": 4,
 "nbformat_minor": 2
}
