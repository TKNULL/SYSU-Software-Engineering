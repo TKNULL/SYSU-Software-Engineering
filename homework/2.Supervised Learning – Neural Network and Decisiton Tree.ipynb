{
 "cells": [
  {
   "cell_type": "markdown",
   "metadata": {},
   "source": [
    "# Supervised Learning II\n",
    "`jskyzero` `2018/04/22`"
   ]
  },
  {
   "cell_type": "code",
   "execution_count": 1,
   "metadata": {},
   "outputs": [],
   "source": [
    "import math\n",
    "import numpy as np\n",
    "import matplotlib.pyplot as plt\n",
    "from mpl_toolkits.mplot3d import Axes3D\n",
    "\n",
    "%matplotlib inline"
   ]
  },
  {
   "cell_type": "markdown",
   "metadata": {},
   "source": [
    "## 模型的性能度量\n",
    "\n",
    " \n",
    "\n",
    "我们需要比较两个分类模型$M_1$和$M_2$。他们在10个二类（+或-）样本所组成的测试集上的分类结果如下表格中所示。假设我们更关心正样本是否能被正确检测。\n",
    "\n",
    " \n",
    "\n",
    "| Instance | True Class | Scores  from $M_1$                       | Scores  from $M_2$                       |\n",
    "| -------- | ---------- | ---------------------------------------- | ---------------------------------------- |\n",
    "| 1        | +          | 0.73                                     | 0.61                                     |\n",
    "| 2        | +          | 0.69                                     | 0.03                                     |\n",
    "| 3        | -          | 0.44                                     | 0.68                                     |\n",
    "| 4        | -          | 0.55                                     | 0.31                                     |\n",
    "| 5        | -          | 0.67                                     | 0.45                                     |\n",
    "| 6        | +          | 0.47                                     | 0.09                                     |\n",
    "| 7        | -          | 0.08                                     | 0.38                                     |\n",
    "| 8        | -          | 0.15                                     | 0.05                                     |\n",
    "| 9        | +          | 0.45                                     | 0.01                                     |\n",
    "| 10       | -          | 0.35                                     | 0.04                                     |\n"
   ]
  },
  {
   "cell_type": "code",
   "execution_count": 2,
   "metadata": {},
   "outputs": [],
   "source": [
    "# read data\n",
    "data_str = '''\n",
    "| 1        | +          | 0.73                                     | 0.61                                     |\n",
    "| 2        | +          | 0.69                                     | 0.03                                     |\n",
    "| 3        | -          | 0.44                                     | 0.68                                     |\n",
    "| 4        | -          | 0.55                                     | 0.31                                     |\n",
    "| 5        | -          | 0.67                                     | 0.45                                     |\n",
    "| 6        | +          | 0.47                                     | 0.09                                     |\n",
    "| 7        | -          | 0.08                                     | 0.38                                     |\n",
    "| 8        | -          | 0.15                                     | 0.05                                     |\n",
    "| 9        | +          | 0.45                                     | 0.01                                     |\n",
    "| 10       | -          | 0.35                                     | 0.04                                     |\n",
    "'''\n",
    "data_str = map(lambda str : str.strip(' '), data_str.replace('\\n', '').split('|'))\n",
    "data = np.delete(np.array(list(data_str))[0:-1].reshape(10, 5), 0, 1)\n",
    "M1 = data[:,0:3]\n",
    "M2 = np.hstack((data[:, 0:2], data[:, 3:4]))\n",
    "\n",
    "# caluate data\n",
    "def calcuate_data(true_class, scores, threshold, true_label):\n",
    "    result = {'TP':0, 'FP':0, 'FN':0, 'TN':0}\n",
    "    for i in range(0, len(scores), 1):\n",
    "        predict_class = 'P' if float(scores[i]) > threshold else 'N'\n",
    "        predict_right = 'T' if ((predict_class == 'P' and true_class[i] == true_label) or\n",
    "                                (predict_class == 'N' and not true_class[i] == true_label)) else 'F'\n",
    "        result[predict_right + predict_class] = result[predict_right + predict_class] + 1\n",
    "    return result\n",
    "\n",
    "def calcuate_result(data, threshold, true_label='+'):\n",
    "    try:\n",
    "        data = calcuate_data(data[:, 0], data[:, 1], threshold, true_label)\n",
    "        accuracy = (data['TP'] + data['TN']) / (data['TP'] + data['FP'] + data['FN'] + data['TN'] )\n",
    "        precision = data['TP'] / (data['TP'] + data['FP'])\n",
    "        recall = data['TP'] / (data['TP'] + data['FN'])\n",
    "        FPR = data['FP'] / (data['FP'] + data['TN'])\n",
    "        F_measure = (2 * recall * precision) / (recall + precision)\n",
    "        result = [accuracy, precision, recall,  FPR, F_measure]\n",
    "        return result\n",
    "    except ZeroDivisionError:\n",
    "        return [0] * 5\n",
    "\n",
    "def print_result(result):\n",
    "    print(\"accuracy = {0:.2f}\\nprecision = {1:.2f}\\nrecall(TPR) = {2:.2f}\\nFPR = {3:.2f}\\nF_measure = {4:.2f}\".format(*result))"
   ]
  },
  {
   "cell_type": "markdown",
   "metadata": {},
   "source": [
    "（1）对于分类模型$M_1$，取阈值为0.5，分别计算分类准确率（accuracy）、查准率（precision）、查全率（recall，又称真正例率，true positive rate，TPR）、假正例率（false positive rate，FPR）和F-measure；"
   ]
  },
  {
   "cell_type": "code",
   "execution_count": 3,
   "metadata": {},
   "outputs": [
    {
     "name": "stdout",
     "output_type": "stream",
     "text": [
      "accuracy = 0.60\n",
      "precision = 0.50\n",
      "recall(TPR) = 0.50\n",
      "FPR = 0.33\n",
      "F_measure = 0.50\n"
     ]
    }
   ],
   "source": [
    "print_result(calcuate_result(M1[:, 1:3], 0.5))"
   ]
  },
  {
   "cell_type": "markdown",
   "metadata": {},
   "source": [
    "（2）对于分类模型$M_2$，取阈值为0.5，分别计算分类准确率（accuracy）、查准率（precision）、查全率（recall，又称真正例率，true positive rate，TPR）、假正例率（false positive rate，FPR）和F-measure；并与分类模型$M_1$比较，分析哪个分类模型在这个测试集上表现更好；"
   ]
  },
  {
   "cell_type": "code",
   "execution_count": 4,
   "metadata": {},
   "outputs": [
    {
     "name": "stdout",
     "output_type": "stream",
     "text": [
      "accuracy = 0.60\n",
      "precision = 0.50\n",
      "recall(TPR) = 0.25\n",
      "FPR = 0.17\n",
      "F_measure = 0.33\n"
     ]
    }
   ],
   "source": [
    "print_result(calcuate_result(M2[:, 1:3], 0.5))"
   ]
  },
  {
   "cell_type": "markdown",
   "metadata": {},
   "source": [
    "从数值上比较，取阈值为0.5时候，**$M2$的表现更好**。"
   ]
  },
  {
   "cell_type": "markdown",
   "metadata": {},
   "source": [
    "（3）对于分类模型$M_1$，取阈值为0.2，分别计算分类准确率（accuracy）、查准率（precision）、查全率（recall，又称真正例率，true positive rate，TPR）、假正例率（false positive rate，FPR）和F-measure；并讨论当阈值为0.2或0.5时，哪个分类模型$M_1$的分类结果哪个更好；"
   ]
  },
  {
   "cell_type": "code",
   "execution_count": 5,
   "metadata": {},
   "outputs": [
    {
     "name": "stdout",
     "output_type": "stream",
     "text": [
      "accuracy = 0.60\n",
      "precision = 0.50\n",
      "recall(TPR) = 1.00\n",
      "FPR = 0.67\n",
      "F_measure = 0.67\n"
     ]
    }
   ],
   "source": [
    "print_result(calcuate_result(M1[:, 1:3], 0.2))"
   ]
  },
  {
   "cell_type": "markdown",
   "metadata": {},
   "source": [
    "同样，从数值上比较，取阈值为0.2时候，**$M1$的表现更好**。"
   ]
  },
  {
   "cell_type": "markdown",
   "metadata": {},
   "source": [
    "（4）试讨论是否存在更好的阈值；若存在，请求出最优阈值并说明原因。"
   ]
  },
  {
   "cell_type": "markdown",
   "metadata": {},
   "source": [
    "依照题意，我们更加关心的是**正样本是否能被正确检测**，即查准率。"
   ]
  },
  {
   "cell_type": "code",
   "execution_count": 6,
   "metadata": {},
   "outputs": [
    {
     "data": {
      "text/plain": [
       "<matplotlib.legend.Legend at 0x226a1d71860>"
      ]
     },
     "execution_count": 6,
     "metadata": {},
     "output_type": "execute_result"
    },
    {
     "data": {
      "image/png": "[encoded data removed]",
      "text/plain": [
       "<matplotlib.figure.Figure at 0x226a0a7c320>"
      ]
     },
     "metadata": {},
     "output_type": "display_data"
    }
   ],
   "source": [
    "x = np.linspace(0, 1, 1000)[1:]\n",
    "y1 = np.vectorize(lambda threshold: calcuate_result(M1[:, 1:3], threshold)[2])(x)\n",
    "y11 = np.vectorize(lambda threshold: calcuate_result(M1[:, 1:3], threshold)[1])(x)\n",
    "y2 = np.vectorize(lambda threshold: calcuate_result(M2[:, 1:3], threshold)[2])(x)\n",
    "y21 = np.vectorize(lambda threshold: calcuate_result(M2[:, 1:3], threshold)[1])(x)\n",
    "plt.plot(x, y1, label=\"M1 precision\")\n",
    "plt.plot(x, y11, label=\"M1 accuracy\")\n",
    "plt.plot(x, y2, label=\"M2 precision\")\n",
    "plt.plot(x, y21, label=\"M2 accuracy\")\n",
    "plt.legend(loc=\"upper left\")"
   ]
  },
  {
   "cell_type": "markdown",
   "metadata": {},
   "source": [
    "如图所示，选取在查准率最高的时候其他数据同时也较高的即可。举例来说，对M1可以取阈值0.4, M2可以取阈值0.1."
   ]
  },
  {
   "cell_type": "markdown",
   "metadata": {},
   "source": [
    "## 神经网络\n",
    "考虑以下的二类训练样本集\n",
    "\n",
    " \n",
    "\n",
    "| Instance | Feature vector $x$ | Output label $y$ |\n",
    "| -------- | ---------------------------------------- | ---------------------------------------- |\n",
    "| 1        | (0, 0)                                   | +                                        |\n",
    "| 2        | (1, 0)                                   | +                                        |\n",
    "| 3        | (0, 1)                                   | -                                        |\n",
    "| 4        | (-1, 0)                                  | -                                        |\n",
    "| 5        | (1, -1)                                  | -                                        |\n",
    "\n",
    " \n",
    "\n",
    "对此训练样本集，我们需要训练一个三层神经网络（输入层、单隐层、输出层），其中单隐层的单元（神经元）数目设为2，激活函数（activation function）为Sigmoid函数： "
   ]
  },
  {
   "cell_type": "code",
   "execution_count": 7,
   "metadata": {},
   "outputs": [],
   "source": [
    "data = [[0, 0],\n",
    "        [1, 0],\n",
    "        [0, 1],\n",
    "        [-1, 0],\n",
    "        [1, -1]]\n",
    "data = np.array(data)"
   ]
  },
  {
   "cell_type": "markdown",
   "metadata": {},
   "source": [
    "（1）在二维坐标系中画出这5个训练样本点，并讨论此训练样本集是否线性可分；"
   ]
  },
  {
   "cell_type": "code",
   "execution_count": 8,
   "metadata": {},
   "outputs": [
    {
     "data": {
      "text/plain": [
       "<matplotlib.legend.Legend at 0x226a1e13908>"
      ]
     },
     "execution_count": 8,
     "metadata": {},
     "output_type": "execute_result"
    },
    {
     "data": {
      "image/png": "[encoded data removed]",
      "text/plain": [
       "<matplotlib.figure.Figure at 0x226a1a836d8>"
      ]
     },
     "metadata": {},
     "output_type": "display_data"
    }
   ],
   "source": [
    "plt.plot(data[0:2, 0], data[0:2, 1], 'ro', color='r', label=\"+\")\n",
    "plt.plot(data[2:5, 0], data[2:5, 1], 'ro', color='b', label=\"-\")\n",
    "plt.legend(loc=\"upper left\")"
   ]
  },
  {
   "cell_type": "markdown",
   "metadata": {},
   "source": [
    "显然，线性不可分。"
   ]
  },
  {
   "cell_type": "markdown",
   "metadata": {},
   "source": [
    "（2）试分析将Sigmoid激活函数换成线性函数的缺陷；"
   ]
  },
  {
   "cell_type": "markdown",
   "metadata": {},
   "source": [
    "当Sigmoid激活函数换成线性函数后，最终组合得到的还是一个线性函数，而目标线性不可分，因而仍然无法得到合理的划分。"
   ]
  },
  {
   "cell_type": "markdown",
   "metadata": {},
   "source": [
    "（3）令初始化参数全部为0，试运用前馈（feedforward）算法计算在初始化参数下此三层神经网络的输出；然后运用反向传播（backpropagation）算法，计算代价函数对所有参数的偏导数，并讨论将初始化参数全部设为0所带来的问题；"
   ]
  },
  {
   "cell_type": "markdown",
   "metadata": {},
   "source": [
    "将初始化参数全部设为0所带来的问题: 将会导致更新没有产生变化，因而学习不到所需的参数，导致最终结果较差。"
   ]
  },
  {
   "cell_type": "markdown",
   "metadata": {},
   "source": [
    "（4）试给出一个神经网络（画出架构图，并写出激活函数及其对应的参数），使此训练样本集的5个训练样本点都可以被正确分类。"
   ]
  },
  {
   "cell_type": "code",
   "execution_count": 9,
   "metadata": {},
   "outputs": [
    {
     "data": {
      "text/plain": [
       "1.0"
      ]
     },
     "execution_count": 9,
     "metadata": {},
     "output_type": "execute_result"
    }
   ],
   "source": [
    "from sklearn.neural_network import MLPClassifier\n",
    "X = data\n",
    "Y = ['1'] * 2 + ['0'] * 3\n",
    "clf = MLPClassifier(solver='lbfgs', alpha=1e-5, hidden_layer_sizes=(5, 2), random_state=1)\n",
    "clf.fit(X, Y)\n",
    "clf.score(X, Y)"
   ]
  },
  {
   "cell_type": "markdown",
   "metadata": {},
   "source": [
    "## 决策树\n",
    "\n",
    "考虑以下的二类训练样本集\n",
    "\n",
    " \n",
    "\n",
    "| Instance | A    | B    | Class Label |\n",
    "| -------- | ---- | ---- | ----------- |\n",
    "| 1        | T    | F    | +           |\n",
    "| 2        | T    | T    | +           |\n",
    "| 3        | T    | T    | +           |\n",
    "| 4        | T    | F    | -           |\n",
    "| 5        | T    | T    | +           |\n",
    "| 6        | F    | F    | -           |\n",
    "| 7        | F    | F    | -           |\n",
    "| 8        | F    | F    | -           |\n",
    "| 9        | T    | T    | -           |\n",
    "| 10       | T    | F    | -           |"
   ]
  },
  {
   "cell_type": "code",
   "execution_count": 10,
   "metadata": {},
   "outputs": [
    {
     "name": "stdout",
     "output_type": "stream",
     "text": [
      "{'TP': 4, 'TN': 3, 'FP': 0, 'FN': 3}\n",
      "{'TP': 3, 'TN': 1, 'FP': 1, 'FN': 5}\n"
     ]
    }
   ],
   "source": [
    "data_str = '''\n",
    "| 1        | T    | F    | +           |\n",
    "| 2        | T    | T    | +           |\n",
    "| 3        | T    | T    | +           |\n",
    "| 4        | T    | F    | -           |\n",
    "| 5        | T    | T    | +           |\n",
    "| 6        | F    | F    | -           |\n",
    "| 7        | F    | F    | -           |\n",
    "| 8        | F    | F    | -           |\n",
    "| 9        | T    | T    | -           |\n",
    "| 10       | T    | F    | -           |\n",
    "'''\n",
    "data_str = map(lambda str : str.strip(' '), data_str.replace('\\n', '').split('|'))\n",
    "data = np.array(list(data_str))[0:-1].reshape(10, 5)[:, 2:5]\n",
    "\n",
    "# caluate data\n",
    "def calcuate_data(true_false, positive_negative, true_label='T', positive_label='+'):\n",
    "    result = {'TP':0, 'TN':0, 'FP':0, 'FN':0}\n",
    "    for i in range(0, min(len(true_false), len(positive_negative)), 1):\n",
    "        TF = 'T' if true_false[i] == true_label else 'F'\n",
    "        PN = 'P' if positive_negative[i] == positive_label else 'N'\n",
    "        result[TF + PN] = result[TF + PN] + 1\n",
    "    return result\n",
    "\n",
    "A = calcuate_data(data[:, 0], data[:, 2])\n",
    "B = calcuate_data(data[:, 1], data[:, 2])\n",
    "print(A)\n",
    "print(B)"
   ]
  },
  {
   "cell_type": "markdown",
   "metadata": {},
   "source": [
    "（1）计算以属性A或B为划分的信息熵（Entropy）增益，并说明决策树学习算法选择哪个属性进行划分；"
   ]
  },
  {
   "cell_type": "code",
   "execution_count": 11,
   "metadata": {},
   "outputs": [
    {
     "name": "stdout",
     "output_type": "stream",
     "text": [
      "Entropy(A) = 0.682908\n",
      "Entropy(B) = 1.012896\n",
      "Select A\n"
     ]
    }
   ],
   "source": [
    "entropy = lambda x : - x * math.log(x) if x > 0 else 0\n",
    "Entropy_T = lambda x : entropy(x['TN'] / (x['TN'] + x['TP'])) + entropy(x['TP'] / (x['TN'] + x['TP']))\n",
    "Entropy_F = lambda x : entropy(x['FN'] / (x['FN'] + x['FP'])) + entropy(x['FP'] / (x['FN'] + x['FP']))\n",
    "Entropy = lambda x : Entropy_T(x) + Entropy_F(x)\n",
    "print(\"Entropy(A) = {0:2f}\".format(Entropy(A)))\n",
    "print(\"Entropy(B) = {0:2f}\".format(Entropy(B)))\n",
    "print(\"Select {0}\".format( \"A\" if Entropy(A) < Entropy(B) else \"B\"))"
   ]
  },
  {
   "cell_type": "markdown",
   "metadata": {},
   "source": [
    "（2）计算以属性A或B为划分的Gini增益，并说明决策树学习算法选择哪个属性进行划分；"
   ]
  },
  {
   "cell_type": "code",
   "execution_count": 12,
   "metadata": {},
   "outputs": [
    {
     "name": "stdout",
     "output_type": "stream",
     "text": [
      "Gini(A) = 0.194976\n",
      "Gini(B) = 0.177741\n",
      "Select A\n"
     ]
    }
   ],
   "source": [
    "Entropy_Root = lambda x : entropy((x['FN'] + x['TN']) / (x['FN'] + x['FP'] + x['TN'] + x['TP'])) + \\\n",
    "                          entropy((x['FP'] + x['TP']) / (x['FN'] + x['FP'] + x['TN'] + x['TP']))\n",
    "Entropy_Root(A)\n",
    "# Entropy_Root(B)\n",
    "Gini = lambda x : Entropy_Root(A) - ((x['TN'] + x['TP']) / (x['FN'] + x['FP'] + x['TN'] + x['TP']) * Entropy_T(x) + \\\n",
    "                                     (x['FN'] + x['FP']) / (x['FN'] + x['FP'] + x['TN'] + x['TP']) * Entropy_F(x))\n",
    "print(\"Gini(A) = {0:2f}\".format(Gini(A)))\n",
    "print(\"Gini(B) = {0:2f}\".format(Gini(B)))\n",
    "print(\"Select {0}\".format( \"A\" if Gini(A) > Gini(B) else \"B\"))"
   ]
  },
  {
   "cell_type": "markdown",
   "metadata": {},
   "source": [
    "（3）计算以属性A或B为划分的分类误差（ClassificationError）增益，并说明决策树学习算法选择哪个属性进行划分；"
   ]
  },
  {
   "cell_type": "code",
   "execution_count": 13,
   "metadata": {},
   "outputs": [
    {
     "name": "stdout",
     "output_type": "stream",
     "text": [
      "Error(A) = 0.300000\n",
      "Error(B) = 0.200000\n",
      "Select B\n"
     ]
    }
   ],
   "source": [
    "Error_T = lambda x : 1 - max(x['TN'] / (x['TN'] + x['TP']), x['TP'] / (x['TN'] + x['TP']))\n",
    "Error_F = lambda x : 1 - max(x['FN'] / (x['FN'] + x['FP']), x['FP'] / (x['FN'] + x['FP']))\n",
    "Error = lambda x : (x['TN'] + x['TP']) / (x['FN'] + x['FP'] + x['TN'] + x['TP']) * Error_T(x) + \\\n",
    "                   (x['FN'] + x['FP']) / (x['FN'] + x['FP'] + x['TN'] + x['TP']) * Error_F(x)\n",
    "print(\"Error(A) = {0:2f}\".format(Error(A)))\n",
    "print(\"Error(B) = {0:2f}\".format(Error(B)))\n",
    "print(\"Select {0}\".format( \"A\" if Error(A) < Error(B) else \"B\"))"
   ]
  },
  {
   "cell_type": "markdown",
   "metadata": {},
   "source": [
    "（4）说明信息熵增益、Gini增益和分类误差增益对属性选择有不一样的偏好。"
   ]
  },
  {
   "cell_type": "markdown",
   "metadata": {},
   "source": [
    "如上所示，信息熵增益、Gini增益和分类误差增益不仅计算出的数值不一样，判断好坏的方式也不一样，所以他们对属性选择有不一样的偏好。"
   ]
  }
 ],
 "metadata": {
  "kernelspec": {
   "display_name": "Python 3",
   "language": "python",
   "name": "python3"
  },
  "language_info": {
   "codemirror_mode": {
    "name": "ipython",
    "version": 3
   },
   "file_extension": ".py",
   "mimetype": "text/x-python",
   "name": "python",
   "nbconvert_exporter": "python",
   "pygments_lexer": "ipython3",
   "version": "3.6.5"
  }
 },
 "nbformat": 4,
 "nbformat_minor": 2
}
