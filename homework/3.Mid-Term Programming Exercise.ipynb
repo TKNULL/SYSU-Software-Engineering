{
 "cells": [
  {
   "cell_type": "markdown",
   "metadata": {},
   "source": [
    "# Mid-Term Programming Exercise\n",
    "`jskyzero` `2018/04/23`"
   ]
  },
  {
   "cell_type": "code",
   "execution_count": 1,
   "metadata": {},
   "outputs": [],
   "source": [
    "import math\n",
    "import numpy as np\n",
    "import pandas as pd\n",
    "import matplotlib.pyplot as plt\n",
    "from mpl_toolkits.mplot3d import Axes3D\n",
    "\n",
    "%matplotlib inline"
   ]
  },
  {
   "cell_type": "code",
   "execution_count": 2,
   "metadata": {},
   "outputs": [
    {
     "name": "stdout",
     "output_type": "stream",
     "text": [
      "submisstion data shape = (7910, 2)\n",
      "train data shape = (6000, 130)\n",
      "test data shape = (7910, 129)\n"
     ]
    }
   ],
   "source": [
    "FILE_PATH = \"D:\\\\Downloads\\\\\"\n",
    "SAMPLE_FILE_NAME = \"sampleSubmission.csv\"\n",
    "TRAIN_FILE_NAME = \"train.csv\"\n",
    "TEST_FILE_NAME = \"test_raw.csv\"\n",
    "OUT_FILE_NAME = \"out.csv\"\n",
    "\n",
    "sample_submission =  pd.read_csv(FILE_PATH + SAMPLE_FILE_NAME, sep=',')\n",
    "train = pd.read_csv(FILE_PATH + TRAIN_FILE_NAME, sep = ',', header=None,)\n",
    "test = pd.read_csv(FILE_PATH + TEST_FILE_NAME, sep = ',',header=None,)\n",
    "\n",
    "print(\"submisstion data shape = {}\".format(sample_submission.shape))\n",
    "print(\"train data shape = {}\".format(train.shape))\n",
    "print(\"test data shape = {}\".format(test.shape))\n",
    "# sample_submission\n",
    "# test"
   ]
  },
  {
   "cell_type": "code",
   "execution_count": 3,
   "metadata": {},
   "outputs": [
    {
     "data": {
      "text/html": [
       "<div>\n",
       "<style scoped>\n",
       "    .dataframe tbody tr th:only-of-type {\n",
       "        vertical-align: middle;\n",
       "    }\n",
       "\n",
       "    .dataframe tbody tr th {\n",
       "        vertical-align: top;\n",
       "    }\n",
       "\n",
       "    .dataframe thead th {\n",
       "        text-align: right;\n",
       "    }\n",
       "</style>\n",
       "<table border=\"1\" class=\"dataframe\">\n",
       "  <thead>\n",
       "    <tr style=\"text-align: right;\">\n",
       "      <th></th>\n",
       "      <th>1</th>\n",
       "      <th>2</th>\n",
       "      <th>3</th>\n",
       "      <th>4</th>\n",
       "      <th>5</th>\n",
       "      <th>6</th>\n",
       "      <th>7</th>\n",
       "      <th>8</th>\n",
       "      <th>9</th>\n",
       "      <th>10</th>\n",
       "      <th>...</th>\n",
       "      <th>119</th>\n",
       "      <th>120</th>\n",
       "      <th>121</th>\n",
       "      <th>122</th>\n",
       "      <th>123</th>\n",
       "      <th>124</th>\n",
       "      <th>125</th>\n",
       "      <th>126</th>\n",
       "      <th>127</th>\n",
       "      <th>128</th>\n",
       "    </tr>\n",
       "  </thead>\n",
       "  <tbody>\n",
       "    <tr>\n",
       "      <th>0</th>\n",
       "      <td>6147.6445</td>\n",
       "      <td>1.287082</td>\n",
       "      <td>1.309475</td>\n",
       "      <td>1.763690</td>\n",
       "      <td>3.267232</td>\n",
       "      <td>-1.135878</td>\n",
       "      <td>-1.541321</td>\n",
       "      <td>-2.513292</td>\n",
       "      <td>4543.1680</td>\n",
       "      <td>1.166722</td>\n",
       "      <td>...</td>\n",
       "      <td>-2.699717</td>\n",
       "      <td>-3.234724</td>\n",
       "      <td>6209.9881</td>\n",
       "      <td>5.561583</td>\n",
       "      <td>1.589754</td>\n",
       "      <td>2.431748</td>\n",
       "      <td>2.835400</td>\n",
       "      <td>-1.443926</td>\n",
       "      <td>-2.258043</td>\n",
       "      <td>-3.129247</td>\n",
       "    </tr>\n",
       "    <tr>\n",
       "      <th>1</th>\n",
       "      <td>883.8496</td>\n",
       "      <td>2.523001</td>\n",
       "      <td>0.186115</td>\n",
       "      <td>0.394962</td>\n",
       "      <td>2.387027</td>\n",
       "      <td>-0.082903</td>\n",
       "      <td>-0.330683</td>\n",
       "      <td>-2.731302</td>\n",
       "      <td>60876.4629</td>\n",
       "      <td>5.423102</td>\n",
       "      <td>...</td>\n",
       "      <td>-3.817337</td>\n",
       "      <td>-8.814603</td>\n",
       "      <td>11525.3111</td>\n",
       "      <td>3.443605</td>\n",
       "      <td>2.403361</td>\n",
       "      <td>4.349723</td>\n",
       "      <td>6.591782</td>\n",
       "      <td>-2.081989</td>\n",
       "      <td>-3.238632</td>\n",
       "      <td>-7.368825</td>\n",
       "    </tr>\n",
       "    <tr>\n",
       "      <th>2</th>\n",
       "      <td>11735.5126</td>\n",
       "      <td>4.209876</td>\n",
       "      <td>4.000793</td>\n",
       "      <td>7.471036</td>\n",
       "      <td>9.348427</td>\n",
       "      <td>-3.968175</td>\n",
       "      <td>-5.130933</td>\n",
       "      <td>-16.353924</td>\n",
       "      <td>25894.0371</td>\n",
       "      <td>4.366012</td>\n",
       "      <td>...</td>\n",
       "      <td>-7.822309</td>\n",
       "      <td>-13.617445</td>\n",
       "      <td>19056.1772</td>\n",
       "      <td>7.484289</td>\n",
       "      <td>9.028648</td>\n",
       "      <td>16.302558</td>\n",
       "      <td>19.527094</td>\n",
       "      <td>-3.821101</td>\n",
       "      <td>-6.827013</td>\n",
       "      <td>-11.194883</td>\n",
       "    </tr>\n",
       "    <tr>\n",
       "      <th>3</th>\n",
       "      <td>5828.2539</td>\n",
       "      <td>1.236785</td>\n",
       "      <td>1.638415</td>\n",
       "      <td>2.281931</td>\n",
       "      <td>3.639547</td>\n",
       "      <td>-1.247796</td>\n",
       "      <td>-1.652973</td>\n",
       "      <td>-2.837284</td>\n",
       "      <td>5353.3750</td>\n",
       "      <td>1.222767</td>\n",
       "      <td>...</td>\n",
       "      <td>-3.761847</td>\n",
       "      <td>-4.299888</td>\n",
       "      <td>7899.9952</td>\n",
       "      <td>7.068495</td>\n",
       "      <td>2.391782</td>\n",
       "      <td>3.918861</td>\n",
       "      <td>4.291086</td>\n",
       "      <td>-1.895875</td>\n",
       "      <td>-2.988525</td>\n",
       "      <td>-3.455212</td>\n",
       "    </tr>\n",
       "    <tr>\n",
       "      <th>4</th>\n",
       "      <td>5562.7482</td>\n",
       "      <td>2.634592</td>\n",
       "      <td>1.162989</td>\n",
       "      <td>1.721184</td>\n",
       "      <td>4.260408</td>\n",
       "      <td>-0.869663</td>\n",
       "      <td>-1.435076</td>\n",
       "      <td>-5.948257</td>\n",
       "      <td>6642.7947</td>\n",
       "      <td>2.936455</td>\n",
       "      <td>...</td>\n",
       "      <td>-7.804921</td>\n",
       "      <td>-15.074300</td>\n",
       "      <td>16974.5445</td>\n",
       "      <td>5.724838</td>\n",
       "      <td>8.089948</td>\n",
       "      <td>22.621003</td>\n",
       "      <td>27.819908</td>\n",
       "      <td>-4.038110</td>\n",
       "      <td>-6.388420</td>\n",
       "      <td>-12.422351</td>\n",
       "    </tr>\n",
       "  </tbody>\n",
       "</table>\n",
       "<p>5 rows × 128 columns</p>\n",
       "</div>"
      ],
      "text/plain": [
       "          1         2         3         4         5         6         7    \\\n",
       "0   6147.6445  1.287082  1.309475  1.763690  3.267232 -1.135878 -1.541321   \n",
       "1    883.8496  2.523001  0.186115  0.394962  2.387027 -0.082903 -0.330683   \n",
       "2  11735.5126  4.209876  4.000793  7.471036  9.348427 -3.968175 -5.130933   \n",
       "3   5828.2539  1.236785  1.638415  2.281931  3.639547 -1.247796 -1.652973   \n",
       "4   5562.7482  2.634592  1.162989  1.721184  4.260408 -0.869663 -1.435076   \n",
       "\n",
       "         8           9         10     ...           119        120  \\\n",
       "0  -2.513292   4543.1680  1.166722    ...     -2.699717  -3.234724   \n",
       "1  -2.731302  60876.4629  5.423102    ...     -3.817337  -8.814603   \n",
       "2 -16.353924  25894.0371  4.366012    ...     -7.822309 -13.617445   \n",
       "3  -2.837284   5353.3750  1.222767    ...     -3.761847  -4.299888   \n",
       "4  -5.948257   6642.7947  2.936455    ...     -7.804921 -15.074300   \n",
       "\n",
       "          121       122       123        124        125       126       127  \\\n",
       "0   6209.9881  5.561583  1.589754   2.431748   2.835400 -1.443926 -2.258043   \n",
       "1  11525.3111  3.443605  2.403361   4.349723   6.591782 -2.081989 -3.238632   \n",
       "2  19056.1772  7.484289  9.028648  16.302558  19.527094 -3.821101 -6.827013   \n",
       "3   7899.9952  7.068495  2.391782   3.918861   4.291086 -1.895875 -2.988525   \n",
       "4  16974.5445  5.724838  8.089948  22.621003  27.819908 -4.038110 -6.388420   \n",
       "\n",
       "         128  \n",
       "0  -3.129247  \n",
       "1  -7.368825  \n",
       "2 -11.194883  \n",
       "3  -3.455212  \n",
       "4 -12.422351  \n",
       "\n",
       "[5 rows x 128 columns]"
      ]
     },
     "execution_count": 3,
     "metadata": {},
     "output_type": "execute_result"
    }
   ],
   "source": [
    "X = train.iloc[:,1:-1]\n",
    "Y = train.iloc[:,-1]\n",
    "X.head()"
   ]
  },
  {
   "cell_type": "code",
   "execution_count": 4,
   "metadata": {},
   "outputs": [
    {
     "data": {
      "text/plain": [
       "1.0"
      ]
     },
     "execution_count": 4,
     "metadata": {},
     "output_type": "execute_result"
    }
   ],
   "source": [
    "from sklearn.ensemble import RandomForestClassifier\n",
    "clf = RandomForestClassifier(n_estimators=3000)\n",
    "clf.fit(X, Y)\n",
    "clf.score(X, Y)"
   ]
  },
  {
   "cell_type": "code",
   "execution_count": 5,
   "metadata": {},
   "outputs": [],
   "source": [
    "# n = 5000\n",
    "# clf = RandomForestClassifier(n_estimators=1000)\n",
    "# clf.fit(X.iloc[0:n, :], Y.iloc[0:n])\n",
    "# clf.score(X.iloc[n:6001, :], Y.iloc[n:6001])"
   ]
  },
  {
   "cell_type": "code",
   "execution_count": 5,
   "metadata": {},
   "outputs": [
    {
     "data": {
      "text/plain": [
       "array(['cls_1', 'cls_2', 'cls_5', ..., 'cls_1', 'cls_1', 'cls_1'],\n",
       "      dtype='<U5')"
      ]
     },
     "execution_count": 5,
     "metadata": {},
     "output_type": "execute_result"
    }
   ],
   "source": [
    "X_test = test.iloc[:, 1:131]\n",
    "Y_test = clf.predict(X_test)\n",
    "Y_test = np.vectorize(lambda x : \"cls_\" + str(x))(Y_test)\n",
    "Y_test"
   ]
  },
  {
   "cell_type": "code",
   "execution_count": 6,
   "metadata": {},
   "outputs": [],
   "source": [
    "sample_submission.iloc[:] = test.iloc[:, 0:1]\n",
    "sample_submission.iloc[:, 1:2] = Y_test.reshape(7910,1)\n",
    "# sample_submission\n",
    "sample_submission.to_csv(FILE_PATH + OUT_FILE_NAME + \"4\", sep=',', index=False)"
   ]
  }
 ],
 "metadata": {
  "kernelspec": {
   "display_name": "Python 3",
   "language": "python",
   "name": "python3"
  },
  "language_info": {
   "codemirror_mode": {
    "name": "ipython",
    "version": 3
   },
   "file_extension": ".py",
   "mimetype": "text/x-python",
   "name": "python",
   "nbconvert_exporter": "python",
   "pygments_lexer": "ipython3",
   "version": "3.6.5"
  }
 },
 "nbformat": 4,
 "nbformat_minor": 2
}
