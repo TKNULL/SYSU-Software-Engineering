{
 "cells": [
  {
   "cell_type": "markdown",
   "metadata": {},
   "source": [
    "## Support Vector Machines\n",
    "`jskyzero` `2018\\03\\19`"
   ]
  },
  {
   "cell_type": "code",
   "execution_count": 1,
   "metadata": {},
   "outputs": [],
   "source": [
    "import math\n",
    "import numpy as np\n",
    "import matplotlib.pyplot as plt\n",
    "from mpl_toolkits.mplot3d import Axes3D\n",
    "\n",
    "%matplotlib inline"
   ]
  },
  {
   "cell_type": "markdown",
   "metadata": {},
   "source": [
    "## 导语\n",
    "\n",
    "线性回归：\n",
    "\n",
    "$h_\\theta(x) = \\frac{1}{1 + e^{-\\theta^Tx}}$\n",
    "\n",
    "当需要y = 0 / 1 时，x要足够小 / 大\n",
    "\n",
    "Cost function 不会严格为0\n",
    "\n",
    "> $min_\\theta \\frac{1}{m}[\\sum_{i = 1}^{m} y^{i}(-log(h_\\theta(x^i))) + (1 - y^i)(-log(1 - h_\\theta(x^i)))) + \\frac {\\lambda}{2m} \\sum_{j = 1}^{i}\\theta_j^2 ]$"
   ]
  },
  {
   "cell_type": "code",
   "execution_count": 2,
   "metadata": {},
   "outputs": [
    {
     "data": {
      "text/plain": [
       "<matplotlib.legend.Legend at 0x208314b92b0>"
      ]
     },
     "execution_count": 2,
     "metadata": {},
     "output_type": "execute_result"
    },
    {
     "data": {
      "image/png": "[encoded data removed]",
      "text/plain": [
       "<matplotlib.figure.Figure at 0x208311ffa20>"
      ]
     },
     "metadata": {},
     "output_type": "display_data"
    }
   ],
   "source": [
    "c = lambda x : -math.log(1 / (1 + math.e ** (-x)))\n",
    "g = lambda x : 0 if x > 1 else 1 - x\n",
    "x = np.linspace(-3, 3, 1000)\n",
    "yc = np.vectorize(c)(x)\n",
    "yg = np.vectorize(g)(x)\n",
    "\n",
    "plt.plot(x, yc, color='b', label=\"logistic\")\n",
    "plt.plot(x, yg, color='r', label=\"hinge\")\n",
    "plt.legend(loc=\"upper left\")"
   ]
  },
  {
   "cell_type": "markdown",
   "metadata": {},
   "source": [
    "## 原理说明\n",
    "\n",
    "+ 超平面：\n",
    "\n",
    "  $a_1x_1 + a_2x_2 + ... + a_nx_n - b =0 $\n",
    "  \n",
    "  $w x - b = 0$\n",
    "+ 目标：找到一个超平面使得分的最开。（线性可分：超平面法向量投影最小。）\n",
    "+ 距离：$\\frac{w x} {||w||} = \\frac{b}{||w||} $\n",
    "+ 求解问题：\n",
    "    + 硬间隔：满足$y_i(w x - b) > 1$时，最小化$||w||$\n",
    "    + 软间隔：\n",
    "        + y = {0, 1}: cost = max{0, 1 - y * z}\n",
    "        + y = {0, -1}: cost = max{0, 1 - y * z}\n",
    "        + 求$\\frac {1}{n}\\sum_{i=1}^{n}MAX\\{0, y_i(wx_i - b)\\} + \\lambda ||w||^2$的最小值\n",
    "\n",
    "\n",
    "## 优化问题\n",
    "\n",
    "设$\\xi_i = MAX\\{0, y_i(wx_i -b)\\}$\n",
    "\n",
    "原问题变为：$MIN \\space \\frac{1}{n}\\sum_{i=1}^{n} \\xi_i + \\lambda ||w||^2 $, 其中$\\xi_i$ 满足\n",
    "\n",
    "$\\xi \\geq 0$\n",
    "\n",
    "$\\xi \\geq 1 - y \\space \\theta^T x$\n",
    "\n",
    "Hinge Loss"
   ]
  },
  {
   "cell_type": "markdown",
   "metadata": {},
   "source": [
    "## 求解\n",
    "利用拉格朗日方法求对偶型的极值，当满足条件的时候就是原问题的解。"
   ]
  },
  {
   "cell_type": "markdown",
   "metadata": {},
   "source": [
    "## 核方法\n",
    "\n",
    "将低维映射到高维，方便分离"
   ]
  },
  {
   "cell_type": "markdown",
   "metadata": {},
   "source": [
    "## 参考\n",
    "\n",
    "+ [维基百科 支持向量机](https://zh.wikipedia.org/wiki/%E6%94%AF%E6%8C%81%E5%90%91%E9%87%8F%E6%9C%BA)\n",
    "+ [机器学习与数据挖掘-支持向量机(SVM)](https://wizardforcel.gitbooks.io/dm-algo-top10/content/svm-1.html)"
   ]
  }
 ],
 "metadata": {
  "kernelspec": {
   "display_name": "Python 3",
   "language": "python",
   "name": "python3"
  },
  "language_info": {
   "codemirror_mode": {
    "name": "ipython",
    "version": 3
   },
   "file_extension": ".py",
   "mimetype": "text/x-python",
   "name": "python",
   "nbconvert_exporter": "python",
   "pygments_lexer": "ipython3",
   "version": "3.6.4"
  }
 },
 "nbformat": 4,
 "nbformat_minor": 2
}
