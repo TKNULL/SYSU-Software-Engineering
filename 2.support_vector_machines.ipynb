{
 "cells": [
  {
   "cell_type": "markdown",
   "metadata": {},
   "source": [
    "## Support Vector Machines\n",
    "`jskyzero` `2018\\03\\19`"
   ]
  },
  {
   "cell_type": "code",
   "execution_count": 1,
   "metadata": {},
   "outputs": [],
   "source": [
    "import math\n",
    "import numpy as np\n",
    "import matplotlib.pyplot as plt\n",
    "from mpl_toolkits.mplot3d import Axes3D\n",
    "\n",
    "%matplotlib inline"
   ]
  },
  {
   "cell_type": "markdown",
   "metadata": {},
   "source": [
    "## 导语\n",
    "\n",
    "线性回归：\n",
    "\n",
    "$h_\\theta(x) = \\frac{1}{1 + e^{-\\theta^Tx}}$\n",
    "\n",
    "当需要y = 0 / 1 时，x要足够小 / 大\n",
    "\n",
    "Cost function 不会严格为0\n",
    "\n",
    "> $min_\\theta \\frac{1}{m}[\\sum_{i = 1}^{m} y^{i}(-log(h_\\theta(x^i))) + (1 - y^i)(-log(1 - h_\\theta(x^i)))) + \\frac {\\lambda}{2m} \\sum_{j = 1}^{i}\\theta_j^2 ]$"
   ]
  },
  {
   "cell_type": "code",
   "execution_count": 9,
   "metadata": {},
   "outputs": [
    {
     "data": {
      "text/plain": [
       "<matplotlib.legend.Legend at 0x17991ef65c0>"
      ]
     },
     "execution_count": 9,
     "metadata": {},
     "output_type": "execute_result"
    },
    {
     "data": {
      "image/png": "[encoded data removed]",
      "text/plain": [
       "<matplotlib.figure.Figure at 0x17991de5588>"
      ]
     },
     "metadata": {},
     "output_type": "display_data"
    }
   ],
   "source": [
    "c = lambda x : -math.log(1 / (1 + math.e ** (-x)))\n",
    "g = lambda x : 0 if x > 1 else 1 - x\n",
    "x = np.linspace(-3, 3, 1000)\n",
    "yc = np.vectorize(c)(x)\n",
    "yg = np.vectorize(g)(x)\n",
    "\n",
    "plt.plot(x, yc, color='b', label=\"cost\")\n",
    "plt.plot(x, yg, color='r', label=\"seem\")\n",
    "plt.legend(loc=\"upper left\")"
   ]
  },
  {
   "cell_type": "markdown",
   "metadata": {},
   "source": [
    "## 评估函数\n",
    "\n",
    "+ y = {0, 1}: cost = max{0, 1 - y * z}\n",
    "+ y = {0, -1}: cost = max{0, 1 - y * z}\n",
    "\n",
    "$min_{\\theta} C \\sum_{i = 1}^{m}[ y^i cost_1 + (1 - y^i) cost_0] + \\frac{1}{2}\\sum_{j = 0}^{n}\\theta_j^2$\n",
    "\n",
    "$cost_i \\geq 0$\n",
    "\n",
    "$cost_i \\geq 1 - y \\space \\theta^T x$\n",
    "\n",
    "+ 线性可分：超平面法向量投影最小。\n",
    "+ 决策边界"
   ]
  }
 ],
 "metadata": {
  "kernelspec": {
   "display_name": "Python 3",
   "language": "python",
   "name": "python3"
  },
  "language_info": {
   "codemirror_mode": {
    "name": "ipython",
    "version": 3
   },
   "file_extension": ".py",
   "mimetype": "text/x-python",
   "name": "python",
   "nbconvert_exporter": "python",
   "pygments_lexer": "ipython3",
   "version": "3.6.4"
  }
 },
 "nbformat": 4,
 "nbformat_minor": 2
}
