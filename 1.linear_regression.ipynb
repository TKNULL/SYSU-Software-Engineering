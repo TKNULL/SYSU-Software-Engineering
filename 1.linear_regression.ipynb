{
 "cells": [
  {
   "cell_type": "markdown",
   "metadata": {},
   "source": [
    "# Linear Regression\n",
    "`jskyzero` `2017/03/07`"
   ]
  },
  {
   "cell_type": "markdown",
   "metadata": {},
   "source": [
    "## Overview\n",
    "\n",
    "+ 有监督式学习：给定一些“正确”的样本。\n",
    "+ 预测未知的结果：预测一些未知情况的结果。\n",
    "\n",
    "Train Set -> Learning Algorithm -> Hypothesis(假设)\n"
   ]
  },
  {
   "cell_type": "markdown",
   "metadata": {},
   "source": [
    "## Cost Function\n",
    "\n",
    "+ Input: $x$\n",
    "+ Hypothesis: $h_{\\theta}(x) = \\theta_0 + \\theta_1 x$\n",
    "\n",
    "怎么得到需要的 $\\theta_i$ ?\n",
    "\n",
    "(数据处理中的核心步骤，衡量数据相似, 需要选择的，就是和代表“正确”的样本相似的)\n",
    "\n",
    "> for each $x_i$, difference is $(h_\\theta(x^{(i)}) - y^{(i)})^2$\n",
    ">\n",
    "> then the sum is $H_{cost}(\\theta_1, \\theta_2) =  \\frac{1} {2m}  \\sum_{i = 1}^{m}(h_{\\theta}(x^{i}) - y^{(i)})^2​$\n",
    "> \n",
    "> We want to minize the sum.\n",
    "\n",
    "如何求解？\n",
    "+ 暴力求解，代价太大\n"
   ]
  },
  {
   "cell_type": "markdown",
   "metadata": {},
   "source": [
    "## Gradient Descent\n",
    "outline:\n",
    "+ start with some $\\theta_0$, $\\theta_1$\n",
    "+ keep reduce the cost untial find the minimum\n",
    "\n",
    "update:\n",
    "+ $\\theta_i^{t+1} = \\theta_i^{t} - \\alpha \\frac{\\partial}{\\partial \\theta_i} J(\\theta_1, \\theta_2) \\space | \\space i = 1, 2 $\n",
    "\n",
    "algorithm:\n",
    "\n",
    "repeat until convergence {\n",
    "\n",
    "   $\\theta_0 = \\theta_0 - \\alpha \\frac{1}{m} \\sum_{i = 1}^{m}(h_\\theta(x^i) - y^i)$\n",
    "   \n",
    "   $\\theta_1 = \\theta_1 - \\alpha \\frac{1}{m} \\sum_{i = 1}^{m}((h_\\theta(x^i) - y^i) * x^i)$\n",
    "\n",
    "}\n",
    "\n",
    "为什么会收敛到局部最小值？\n",
    "+ 函数值变化方向与自变量变化方向\n",
    "+ 函数递增，更新自变量变小，函数值减少\n",
    "+ 函数递减，更新自变量变大，函数值减少\n",
    "\n",
    "其他问题\n",
    "+ make sure gradient descent is working correctly\n",
    "+ when to stop?\n",
    "    + set error, when decrease smaller than error, stop.\n",
    "    + set change rate, then change smaller than rate, stop."
   ]
  },
  {
   "cell_type": "markdown",
   "metadata": {},
   "source": [
    "## Multiple features (variables).\n",
    "\n",
    "+ Input: $x = [x_0, x_1, x_2...x_n]$\n",
    "+ Hypothesis: $h_\\theta(x) = \\theta^{T}x = \\theta_0 x_0 + \\theta_1 x_1 + ... + \\theta_n x_n$\n",
    "+ Cost:\n",
    "+ Gradient Descent:\n",
    "+ Feature Scaling: make sure features are on a similar scale (or it will be the main part of change).\n",
    "    + make to [-1, 1], 归一化\n",
    "    "
   ]
  },
  {
   "cell_type": "markdown",
   "metadata": {},
   "source": [
    "## $\\alpha$ 的取值\n",
    "+ 大小\n",
    "  + 小：慢\n",
    "  + 大：不收敛，发散\n",
    "  + 固定（较小）：变化率会收敛到0\n",
    "+ how to set?\n",
    "  + not working -> use smaller $\\alpha$\n",
    "  + for suffiently small $\\alpha$, $J(\\theta)$ will always decrease on every iteration.also, the speed will be slow.\n",
    "  + to choose $\\alpha$, try ..., 0.001, 0.003, 0.01, 0.03, 0.1, 0.3, 1, 3... "
   ]
  },
  {
   "cell_type": "markdown",
   "metadata": {},
   "source": [
    "## Normal equation"
   ]
  },
  {
   "cell_type": "markdown",
   "metadata": {},
   "source": [
    "## Reference\n",
    "1. [alternating direction method of multipliers (ADMM) ](http://stanford.edu/~boyd/admm.html)"
   ]
  }
 ],
 "metadata": {
  "kernelspec": {
   "display_name": "Python 3",
   "language": "python",
   "name": "python3"
  },
  "language_info": {
   "codemirror_mode": {
    "name": "ipython",
    "version": 3
   },
   "file_extension": ".py",
   "mimetype": "text/x-python",
   "name": "python",
   "nbconvert_exporter": "python",
   "pygments_lexer": "ipython3",
   "version": "3.6.4"
  }
 },
 "nbformat": 4,
 "nbformat_minor": 2
}
