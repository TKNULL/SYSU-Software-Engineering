{
 "cells": [
  {
   "cell_type": "markdown",
   "metadata": {},
   "source": [
    "## Nerual Network\n",
    "`jskyzero` `2018/04/09`"
   ]
  },
  {
   "cell_type": "code",
   "execution_count": 1,
   "metadata": {},
   "outputs": [],
   "source": [
    "import math\n",
    "import numpy as np\n",
    "import matplotlib.pyplot as plt\n",
    "from mpl_toolkits.mplot3d import Axes3D\n",
    "\n",
    "%matplotlib inline"
   ]
  },
  {
   "cell_type": "markdown",
   "metadata": {},
   "source": [
    "## 神经元\n",
    "\n",
    "输入层/神经元/输出\n",
    "\n",
    "+ 加入偏置项\n",
    "+ 如果都是多层都是线性的，那其实和不是线性的没区别\n",
    "\n",
    "数学的表达形式\n",
    "\n",
    "$a_i^{(j)} = g(\\theta_{10}^{(1)} x_0 + ... + \\theta_1n^{(1)} x_n)$\n",
    "\n",
    "Sigmoid (logistic) activation function\n",
    "\n",
    "神经元可以学习到自己的特征"
   ]
  },
  {
   "cell_type": "markdown",
   "metadata": {},
   "source": [
    "## 学习方法\n",
    "\n",
    "输出K维数据\n",
    "\n",
    "代价方程\n",
    "$J(\\theta) = - \\frac{1}{m}[\\sum_{i = 1}^{m} \\sum_{k = 1}^{K}y_k^{(i)}log(h_\\theta(x^{(i)})_k + (1 - y_k^{(i)})log(1 - h_\\theta(x^{(i)})_k] + \\frac{\\lambda}{2m}\\sum_{l=1}^{L-1}\\sum_{i=1}^{s_l}\\sum_{j=1}^{s_{l+1}}(\\theta_{ij}^{(l)})^2$\n",
    "\n",
    "计算方法：前向传播\n",
    "\n",
    "求导"
   ]
  }
 ],
 "metadata": {
  "kernelspec": {
   "display_name": "Python 3",
   "language": "python",
   "name": "python3"
  },
  "language_info": {
   "codemirror_mode": {
    "name": "ipython",
    "version": 3
   },
   "file_extension": ".py",
   "mimetype": "text/x-python",
   "name": "python",
   "nbconvert_exporter": "python",
   "pygments_lexer": "ipython3",
   "version": "3.6.4"
  }
 },
 "nbformat": 4,
 "nbformat_minor": 2
}
