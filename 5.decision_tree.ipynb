{
 "cells": [
  {
   "cell_type": "markdown",
   "metadata": {},
   "source": [
    "# Decision Tree\n",
    "`jskyzero` `2018/04/18`"
   ]
  },
  {
   "cell_type": "markdown",
   "metadata": {},
   "source": [
    "## 算法描述\n",
    "\n",
    "选取节点，描述选择节点好坏的方式"
   ]
  },
  {
   "cell_type": "markdown",
   "metadata": {},
   "source": [
    "## 评价节点好坏的方法\n",
    "\n",
    "+ Gini Index\n",
    "\n",
    "$GINI(t) = 1 - \\sum_j [ p(j|t) ]^2$ \n",
    "\n",
    "+ Entropy\n",
    "\n",
    "$Entropt(t) = - \\sum_j p(j|t)log(p(j|t))$\n",
    "\n",
    "+ Misclassification error\n",
    "\n",
    "$Error = 1 - max_t P(i|t)$"
   ]
  },
  {
   "cell_type": "markdown",
   "metadata": {},
   "source": [
    "## 剪枝方法\n",
    "\n",
    "+ 事先\n",
    "+ 事后"
   ]
  }
 ],
 "metadata": {
  "kernelspec": {
   "display_name": "Python 3",
   "language": "python",
   "name": "python3"
  },
  "language_info": {
   "codemirror_mode": {
    "name": "ipython",
    "version": 3
   },
   "file_extension": ".py",
   "mimetype": "text/x-python",
   "name": "python",
   "nbconvert_exporter": "python",
   "pygments_lexer": "ipython3",
   "version": "3.6.4"
  }
 },
 "nbformat": 4,
 "nbformat_minor": 2
}
