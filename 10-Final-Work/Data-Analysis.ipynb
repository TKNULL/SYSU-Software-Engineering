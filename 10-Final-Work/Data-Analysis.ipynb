{
 "cells": [
  {
   "cell_type": "code",
   "execution_count": 30,
   "metadata": {},
   "outputs": [
    {
     "data": {
      "text/plain": [
       "function"
      ]
     },
     "execution_count": 30,
     "metadata": {},
     "output_type": "execute_result"
    }
   ],
   "source": [
    "from helper import read_data\n",
    "import pandas as pd\n",
    "import numpy as np\n",
    "import matplotlib.pyplot as plt\n",
    "from sklearn.cross_validation import train_test_split\n",
    "from sklearn.tree import DecisionTreeClassifier\n",
    "\n",
    "%matplotlib inline\n",
    "\n",
    "type(read_data)"
   ]
  },
  {
   "cell_type": "code",
   "execution_count": 2,
   "metadata": {
    "collapsed": true
   },
   "outputs": [],
   "source": [
    "TRAIN_FILE_PATH = \"./asset/training_data.txt\"\n",
    "\n",
    "VOWELS_TABLE = \"\"\"\\\n",
    "|   AA  |   ɑ   |\n",
    "|   AE  |   æ   |\n",
    "|   AH  |   ʌ   |\n",
    "|   AO  |   ɔ   |\n",
    "|   AW  |   aʊ  |\n",
    "|   AY  |   aɪ  |\n",
    "|   EH  |   ɛ   |\n",
    "|   ER  |   ɜːr |\n",
    "|   EY  |   eɪ  |\n",
    "|   IH  |   ɪ   |\n",
    "|   IY  |   i   |\n",
    "|   OW  |   oʊ  |\n",
    "|   OY  |   ɔɪ  |\n",
    "|   UH  |   ʊ   |\n",
    "|   UW  |   u   |\n",
    "\"\"\"\n",
    "\n",
    "CONSONANT_TABLE = \"\"\"\\\n",
    "|     P     |  p  |\n",
    "|     S     |  s  |\n",
    "|     B     |  b  |\n",
    "|     SH    |  ʃ  |\n",
    "|     CH    |  tʃ |\n",
    "|     T     |  t  |\n",
    "|     D     |  d  |\n",
    "|     TH    |  θ  |\n",
    "|     DH    |  ð  |\n",
    "|     V     |  v  |\n",
    "|     F     |  f  |\n",
    "|     W     |  w  |\n",
    "|     G     |  g  |\n",
    "|     Y     |  j  |\n",
    "|     HH    |  h  |\n",
    "|     Z     |  z  |\n",
    "|     JH    |  dʒ |\n",
    "|     ZH    |  ʒ  |\n",
    "|     K     |  k  |\n",
    "|     L     |  l  |\n",
    "|     M     |  m  |\n",
    "|     N     |  n  |\n",
    "|     NG    |  ŋ  |\n",
    "|     R     |  r  |\n",
    "\"\"\"\n"
   ]
  },
  {
   "cell_type": "code",
   "execution_count": 3,
   "metadata": {
    "collapsed": true
   },
   "outputs": [],
   "source": [
    "def init_phonemes(phonemes_table):\n",
    "    ans = {}\n",
    "    phonemes_list = list(filter(lambda x: not x in \"\\n\",\n",
    "                              phonemes_table.replace(\" \", \"\").split(\"|\")))\n",
    "    for x in range(0, len(phonemes_list), 2):\n",
    "        ans[phonemes_list[x]] =  phonemes_list[x+1]\n",
    "    return ans\n",
    "\n",
    "train_data = read_data(TRAIN_FILE_PATH)\n",
    "\n",
    "vowels_dict = init_phonemes(VOWELS_TABLE)\n",
    "consonants_dict = init_phonemes(CONSONANT_TABLE)"
   ]
  },
  {
   "cell_type": "code",
   "execution_count": 4,
   "metadata": {
    "collapsed": true
   },
   "outputs": [],
   "source": [
    "def contain_phonemes(phoneme, phonemes_dict):\n",
    "    return phoneme in phonemes_dict\n",
    "\n",
    "def count_contain_phonemes_num(phonemes_list, phonemes_dict):\n",
    "    return len(list(filter(lambda phoneme:contain_phonemes(phoneme, phonemes_dict), phonemes_list)))\n",
    "\n",
    "def get_world(line):\n",
    "    return line.split(\":\")[0]\n",
    "\n",
    "def has_number(string):\n",
    "    return any(char.isdigit() for char in string)\n",
    "\n",
    "def get_stress_index(vowels_list):\n",
    "    return [i + 1 for i, x in enumerate(vowels_list) if \"1\" in x][0]\n",
    "    \n",
    "    \n",
    "def get_data(line):\n",
    "    line = line.split(\":\")[1]\n",
    "    phonemes_list = line.split(\" \")\n",
    "    vowels_list = list(filter(lambda phoneme: has_number(phoneme), phonemes_list))\n",
    "    constants_list = list(filter(lambda phoneme: not has_number(phoneme), phonemes_list))\n",
    "    # print(count_contain_phonemes_num(constants_list, consonants_dict))\n",
    "    return [get_stress_index(vowels_list), len(vowels_list), len(constants_list)]"
   ]
  },
  {
   "cell_type": "code",
   "execution_count": 11,
   "metadata": {},
   "outputs": [
    {
     "data": {
      "text/html": [
       "<div>\n",
       "<style>\n",
       "    .dataframe thead tr:only-child th {\n",
       "        text-align: right;\n",
       "    }\n",
       "\n",
       "    .dataframe thead th {\n",
       "        text-align: left;\n",
       "    }\n",
       "\n",
       "    .dataframe tbody tr th {\n",
       "        vertical-align: top;\n",
       "    }\n",
       "</style>\n",
       "<table border=\"1\" class=\"dataframe\">\n",
       "  <thead>\n",
       "    <tr style=\"text-align: right;\">\n",
       "      <th></th>\n",
       "      <th>stress_index</th>\n",
       "      <th>vowels_size</th>\n",
       "      <th>constans_size</th>\n",
       "    </tr>\n",
       "  </thead>\n",
       "  <tbody>\n",
       "    <tr>\n",
       "      <th>COED</th>\n",
       "      <td>1</td>\n",
       "      <td>2</td>\n",
       "      <td>2</td>\n",
       "    </tr>\n",
       "    <tr>\n",
       "      <th>PURVIEW</th>\n",
       "      <td>1</td>\n",
       "      <td>2</td>\n",
       "      <td>3</td>\n",
       "    </tr>\n",
       "    <tr>\n",
       "      <th>HEHIR</th>\n",
       "      <td>1</td>\n",
       "      <td>2</td>\n",
       "      <td>3</td>\n",
       "    </tr>\n",
       "    <tr>\n",
       "      <th>MUSCLING</th>\n",
       "      <td>1</td>\n",
       "      <td>3</td>\n",
       "      <td>4</td>\n",
       "    </tr>\n",
       "    <tr>\n",
       "      <th>NONPOISONOUS</th>\n",
       "      <td>2</td>\n",
       "      <td>4</td>\n",
       "      <td>6</td>\n",
       "    </tr>\n",
       "  </tbody>\n",
       "</table>\n",
       "</div>"
      ],
      "text/plain": [
       "              stress_index  vowels_size  constans_size\n",
       "COED                     1            2              2\n",
       "PURVIEW                  1            2              3\n",
       "HEHIR                    1            2              3\n",
       "MUSCLING                 1            3              4\n",
       "NONPOISONOUS             2            4              6"
      ]
     },
     "execution_count": 11,
     "metadata": {},
     "output_type": "execute_result"
    }
   ],
   "source": [
    "df = pd.DataFrame([get_data(line) for line in train_data], \n",
    "                  index=[get_world(line) for line in train_data],\n",
    "                  columns=[\"stress_index\", \"vowels_size\", \"constans_size\"])\n",
    "df.head()"
   ]
  },
  {
   "cell_type": "code",
   "execution_count": 12,
   "metadata": {},
   "outputs": [
    {
     "data": {
      "text/html": [
       "<div>\n",
       "<style>\n",
       "    .dataframe thead tr:only-child th {\n",
       "        text-align: right;\n",
       "    }\n",
       "\n",
       "    .dataframe thead th {\n",
       "        text-align: left;\n",
       "    }\n",
       "\n",
       "    .dataframe tbody tr th {\n",
       "        vertical-align: top;\n",
       "    }\n",
       "</style>\n",
       "<table border=\"1\" class=\"dataframe\">\n",
       "  <thead>\n",
       "    <tr style=\"text-align: right;\">\n",
       "      <th></th>\n",
       "      <th>stress_index</th>\n",
       "      <th>vowels_size</th>\n",
       "      <th>constans_size</th>\n",
       "    </tr>\n",
       "  </thead>\n",
       "  <tbody>\n",
       "    <tr>\n",
       "      <th>count</th>\n",
       "      <td>50000.000000</td>\n",
       "      <td>50000.000000</td>\n",
       "      <td>50000.000000</td>\n",
       "    </tr>\n",
       "    <tr>\n",
       "      <th>mean</th>\n",
       "      <td>1.364080</td>\n",
       "      <td>2.567340</td>\n",
       "      <td>3.922160</td>\n",
       "    </tr>\n",
       "    <tr>\n",
       "      <th>std</th>\n",
       "      <td>0.595326</td>\n",
       "      <td>0.696358</td>\n",
       "      <td>1.310563</td>\n",
       "    </tr>\n",
       "    <tr>\n",
       "      <th>min</th>\n",
       "      <td>1.000000</td>\n",
       "      <td>2.000000</td>\n",
       "      <td>0.000000</td>\n",
       "    </tr>\n",
       "    <tr>\n",
       "      <th>25%</th>\n",
       "      <td>1.000000</td>\n",
       "      <td>2.000000</td>\n",
       "      <td>3.000000</td>\n",
       "    </tr>\n",
       "    <tr>\n",
       "      <th>50%</th>\n",
       "      <td>1.000000</td>\n",
       "      <td>2.000000</td>\n",
       "      <td>4.000000</td>\n",
       "    </tr>\n",
       "    <tr>\n",
       "      <th>75%</th>\n",
       "      <td>2.000000</td>\n",
       "      <td>3.000000</td>\n",
       "      <td>5.000000</td>\n",
       "    </tr>\n",
       "    <tr>\n",
       "      <th>max</th>\n",
       "      <td>4.000000</td>\n",
       "      <td>4.000000</td>\n",
       "      <td>10.000000</td>\n",
       "    </tr>\n",
       "  </tbody>\n",
       "</table>\n",
       "</div>"
      ],
      "text/plain": [
       "       stress_index   vowels_size  constans_size\n",
       "count  50000.000000  50000.000000   50000.000000\n",
       "mean       1.364080      2.567340       3.922160\n",
       "std        0.595326      0.696358       1.310563\n",
       "min        1.000000      2.000000       0.000000\n",
       "25%        1.000000      2.000000       3.000000\n",
       "50%        1.000000      2.000000       4.000000\n",
       "75%        2.000000      3.000000       5.000000\n",
       "max        4.000000      4.000000      10.000000"
      ]
     },
     "execution_count": 12,
     "metadata": {},
     "output_type": "execute_result"
    }
   ],
   "source": [
    "df.describe()"
   ]
  },
  {
   "cell_type": "code",
   "execution_count": 13,
   "metadata": {},
   "outputs": [
    {
     "data": {
      "text/plain": [
       "0"
      ]
     },
     "execution_count": 13,
     "metadata": {},
     "output_type": "execute_result"
    }
   ],
   "source": [
    "df[(df[\"vowels_size\"] == 1) | (df[\"vowels_size\"] == 5)].size"
   ]
  },
  {
   "cell_type": "code",
   "execution_count": 14,
   "metadata": {},
   "outputs": [
    {
     "data": {
      "text/plain": [
       "'stress_index'"
      ]
     },
     "execution_count": 14,
     "metadata": {},
     "output_type": "execute_result"
    }
   ],
   "source": [
    "df.groupby(['vowels_size', 'stress_index']).agg(\n",
    "    {'constans_size':'count'}).groupby(level=0).apply(lambda x : \n",
    "                                                      x * 100 / float(x.sum())).add_suffix('_Count').reset_index().columns[1]"
   ]
  },
  {
   "cell_type": "code",
   "execution_count": 15,
   "metadata": {},
   "outputs": [
    {
     "data": {
      "text/plain": [
       "vowels_size\n",
       "2    [Axes(0.125,0.125;0.775x0.755)]\n",
       "3    [Axes(0.125,0.125;0.775x0.755)]\n",
       "4    [Axes(0.125,0.125;0.775x0.755)]\n",
       "dtype: object"
      ]
     },
     "execution_count": 15,
     "metadata": {},
     "output_type": "execute_result"
    },
    {
     "data": {
      "image/png": "[encoded data removed]",
      "text/plain": [
       "<matplotlib.figure.Figure at 0x1e1bfb76588>"
      ]
     },
     "metadata": {},
     "output_type": "display_data"
    },
    {
     "data": {
      "image/png": "[encoded data removed]",
      "text/plain": [
       "<matplotlib.figure.Figure at 0x1e1bfb760f0>"
      ]
     },
     "metadata": {},
     "output_type": "display_data"
    },
    {
     "data": {
      "image/png": "[encoded data removed]",
      "text/plain": [
       "<matplotlib.figure.Figure at 0x1e1bfb76438>"
      ]
     },
     "metadata": {},
     "output_type": "display_data"
    }
   ],
   "source": [
    "df.groupby(['vowels_size', 'stress_index']).agg(\n",
    "    {'constans_size':'count'}).groupby(level=0).apply(lambda x : \n",
    "                                 \n",
    "                                                      x * 100 / float(x.sum())).groupby(\"vowels_size\").plot.pie(subplots=True)"
   ]
  },
  {
   "cell_type": "markdown",
   "metadata": {},
   "source": [
    "## Decistion Tree"
   ]
  },
  {
   "cell_type": "code",
   "execution_count": 22,
   "metadata": {},
   "outputs": [
    {
     "data": {
      "text/html": [
       "<div>\n",
       "<style>\n",
       "    .dataframe thead tr:only-child th {\n",
       "        text-align: right;\n",
       "    }\n",
       "\n",
       "    .dataframe thead th {\n",
       "        text-align: left;\n",
       "    }\n",
       "\n",
       "    .dataframe tbody tr th {\n",
       "        vertical-align: top;\n",
       "    }\n",
       "</style>\n",
       "<table border=\"1\" class=\"dataframe\">\n",
       "  <thead>\n",
       "    <tr style=\"text-align: right;\">\n",
       "      <th></th>\n",
       "      <th>stress_index</th>\n",
       "    </tr>\n",
       "  </thead>\n",
       "  <tbody>\n",
       "    <tr>\n",
       "      <th>stress_index</th>\n",
       "      <td>1.000000</td>\n",
       "    </tr>\n",
       "    <tr>\n",
       "      <th>vowels_size</th>\n",
       "      <td>0.564520</td>\n",
       "    </tr>\n",
       "    <tr>\n",
       "      <th>constans_size</th>\n",
       "      <td>0.216817</td>\n",
       "    </tr>\n",
       "  </tbody>\n",
       "</table>\n",
       "</div>"
      ],
      "text/plain": [
       "               stress_index\n",
       "stress_index       1.000000\n",
       "vowels_size        0.564520\n",
       "constans_size      0.216817"
      ]
     },
     "execution_count": 22,
     "metadata": {},
     "output_type": "execute_result"
    }
   ],
   "source": [
    "df.corr().stress_index.to_frame().sort_values(by='stress_index', ascending=False)"
   ]
  },
  {
   "cell_type": "code",
   "execution_count": 52,
   "metadata": {},
   "outputs": [
    {
     "data": {
      "text/plain": [
       "0.71960000000000002"
      ]
     },
     "execution_count": 52,
     "metadata": {},
     "output_type": "execute_result"
    }
   ],
   "source": [
    "feature_list=[\"vowels_size\", \"constans_size\"]\n",
    "\n",
    "train, test = train_test_split(df, test_size=0.2)\n",
    "\n",
    "x_train = train[feature_list]\n",
    "y_train = train.stress_index\n",
    "x_test = test[feature_list]\n",
    "y_test = test.stress_index\n",
    "\n",
    "clf = DecisionTreeClassifier(criterion = \"gini\")\n",
    "dtree = clf.fit(x_train, y_train)\n",
    "dtree.score(x_test, y_test)"
   ]
  },
  {
   "cell_type": "code",
   "execution_count": 36,
   "metadata": {},
   "outputs": [
    {
     "data": {
      "text/plain": [
       "0.70960000000000001"
      ]
     },
     "execution_count": 36,
     "metadata": {},
     "output_type": "execute_result"
    }
   ],
   "source": []
  }
 ],
 "metadata": {
  "kernelspec": {
   "display_name": "Python 3",
   "language": "python",
   "name": "python3"
  },
  "language_info": {
   "codemirror_mode": {
    "name": "ipython",
    "version": 3
   },
   "file_extension": ".py",
   "mimetype": "text/x-python",
   "name": "python",
   "nbconvert_exporter": "python",
   "pygments_lexer": "ipython3",
   "version": "3.6.1"
  }
 },
 "nbformat": 4,
 "nbformat_minor": 2
}
