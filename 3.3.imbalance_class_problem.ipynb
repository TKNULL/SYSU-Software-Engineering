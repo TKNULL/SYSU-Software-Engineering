{
 "cells": [
  {
   "cell_type": "markdown",
   "metadata": {},
   "source": [
    "# Imbalance Class Problem\n",
    "`jskyzero` `2018/04/04`"
   ]
  },
  {
   "cell_type": "markdown",
   "metadata": {},
   "source": [
    "这一节的大概意思是将如何评价分类的好坏。"
   ]
  },
  {
   "cell_type": "markdown",
   "metadata": {},
   "source": [
    "## 概念\n",
    "\n",
    "```\n",
    "|        | Predicted  |            |           |\n",
    "| ------ | ---------- | ---------- | --------- |\n",
    "|        |            | Classs YES | Classs No |\n",
    "| Actual | Classs YES | TP         | FN        |\n",
    "|        | Classs No  | FP         | TN        |\n",
    "```"
   ]
  },
  {
   "cell_type": "markdown",
   "metadata": {},
   "source": [
    "+ 准确率\n",
    "\n",
    "$Accuracy = \\frac{TP + TN }{TP + FN + FP + TN}$\n",
    "\n",
    "+ 查准率\n",
    "\n",
    "$Precision = \\frac{TP}{TP + FP}$\n",
    "\n",
    "+ 查全率（又称真正例率，true positive rate，TPR）\n",
    "\n",
    "$Recall = \\frac{TP}{TP + FN}$\n",
    "\n",
    "+ 假正例率\n",
    "\n",
    "$FPR = \\frac{FP}{FP + TN}$\n",
    "\n",
    "+ F-measure\n",
    "\n",
    "$F-measure = \\frac{2 * Recall * Precision}{Recall + Precision}$"
   ]
  },
  {
   "cell_type": "markdown",
   "metadata": {},
   "source": [
    "## ROC(Reciver Opereating Characteristic)\n",
    "\n",
    "ROC curve plots TPR against FPR"
   ]
  }
 ],
 "metadata": {
  "kernelspec": {
   "display_name": "Python 3",
   "language": "python",
   "name": "python3"
  },
  "language_info": {
   "codemirror_mode": {
    "name": "ipython",
    "version": 3
   },
   "file_extension": ".py",
   "mimetype": "text/x-python",
   "name": "python",
   "nbconvert_exporter": "python",
   "pygments_lexer": "ipython3",
   "version": "3.6.4"
  }
 },
 "nbformat": 4,
 "nbformat_minor": 2
}
